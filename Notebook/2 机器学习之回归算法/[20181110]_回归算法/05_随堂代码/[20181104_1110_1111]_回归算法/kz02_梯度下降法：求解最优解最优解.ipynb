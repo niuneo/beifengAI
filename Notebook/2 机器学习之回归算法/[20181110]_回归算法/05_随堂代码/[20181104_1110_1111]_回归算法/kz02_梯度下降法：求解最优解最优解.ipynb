{
 "cells": [
  {
   "cell_type": "code",
   "execution_count": 2,
   "metadata": {
    "collapsed": true
   },
   "outputs": [],
   "source": [
    "import numpy as np\n",
    "import matplotlib as mpl\n",
    "import matplotlib.pyplot as plt\n",
    "import math\n",
    "from mpl_toolkits.mplot3d import Axes3D"
   ]
  },
  {
   "cell_type": "code",
   "execution_count": 3,
   "metadata": {
    "collapsed": true
   },
   "outputs": [],
   "source": [
    "# 设置在jupyter中matplotlib的显示情况（表示不是嵌入显示）\n",
    "%matplotlib tk"
   ]
  },
  {
   "cell_type": "code",
   "execution_count": 4,
   "metadata": {
    "collapsed": true
   },
   "outputs": [],
   "source": [
    "# 解决中文显示问题\n",
    "mpl.rcParams['font.sans-serif'] = [u'SimHei']\n",
    "mpl.rcParams['axes.unicode_minus'] = False"
   ]
  },
  {
   "cell_type": "code",
   "execution_count": 11,
   "metadata": {
    "collapsed": false
   },
   "outputs": [
    {
     "name": "stdout",
     "output_type": "stream",
     "text": [
      "最终结果为:(0.25000, 0.00000)\n",
      "迭代过程中X的取值，迭代次数:9\n",
      "[4, 1.0, 0.3999999999999999, 0.27999999999999997, 0.256, 0.2512, 0.25024, 0.250048, 0.2500096, 0.25000192]\n"
     ]
    }
   ],
   "source": [
    "# 一维原始图像\n",
    "def f1(x):\n",
    "    return 0.5 * (x - 0.25) ** 2\n",
    "# 导函数\n",
    "def h1(x):\n",
    "    return 0.5 * 2 * (x - 0.25)\n",
    "\n",
    "# 使用梯度下降法求解\n",
    "GD_X = []\n",
    "GD_Y = []\n",
    "x = 4\n",
    "alpha = 0.8\n",
    "f_change = f1(x)\n",
    "f_current = f_change\n",
    "GD_X.append(x)\n",
    "GD_Y.append(f_current)\n",
    "iter_num = 0\n",
    "while f_change > 1e-10 and iter_num < 10:\n",
    "    iter_num += 1\n",
    "    x = x - alpha * h1(x)\n",
    "    tmp = f1(x)\n",
    "    f_change = np.abs(f_current - tmp)\n",
    "    f_current  = tmp\n",
    "    GD_X.append(x)\n",
    "    GD_Y.append(f_current)\n",
    "print(u\"最终结果为:(%.5f, %.5f)\" % (x, f_current))\n",
    "print(u\"迭代过程中X的取值，迭代次数:%d\" % iter_num)\n",
    "print(GD_X)\n",
    "\n",
    "\n",
    "# 构建数据\n",
    "X = np.arange(-4, 4.5, 0.05)\n",
    "Y = np.array(list(map(lambda t: f1(t), X)))\n",
    "\n",
    "# 画图\n",
    "plt.figure(facecolor='w')\n",
    "plt.plot(X, Y, 'r-', linewidth=2)\n",
    "plt.plot(GD_X, GD_Y, 'bo--', linewidth=2)\n",
    "plt.title(u'函数$y=0.5 * (θ - 0.25)^2$; \\n学习率:%.3f; 最终解:(%.3f, %.3f);迭代次数:%d' % (alpha, x, f_current, iter_num))\n",
    "plt.show()\n"
   ]
  },
  {
   "cell_type": "code",
   "execution_count": 18,
   "metadata": {
    "collapsed": false
   },
   "outputs": [
    {
     "name": "stdout",
     "output_type": "stream",
     "text": [
      "最终结果为:(-0.00000, 0.00000, 0.00000)\n",
      "迭代过程中X的取值，迭代次数:17\n",
      "[4, 1.2000000000000002, 0.3320000000000001, 0.07692000000000004, 0.009185200000000032, -0.004867187999999988, -0.005412054279999995, -0.003605013886799998, -0.002054132563507999, -0.0010870451545534796, -0.0005518453650270387, -0.0002730675209433446, -0.00013288943355978293, -6.394963783248905e-05, -3.053689727475086e-05, -1.4502944739349947e-05, -6.86148167491332e-06, -3.2373289983837977e-06]\n"
     ]
    }
   ],
   "source": [
    "# 二维原始图像\n",
    "def f2(x, y):\n",
    "    return 0.6 * (x + y) ** 2 - x * y\n",
    "# 导函数\n",
    "def hx2(x, y):\n",
    "    return 0.6 * 2 * (x + y) - y\n",
    "def hy2(x, y):\n",
    "    return 0.6 * 2 * (x + y) - x\n",
    "\n",
    "# 使用梯度下降法求解\n",
    "GD_X1 = []\n",
    "GD_X2 = []\n",
    "GD_Y = []\n",
    "\n",
    "x1 = 4\n",
    "x2 = 4\n",
    "alpha = 0.5\n",
    "f_change = f2(x1, x2)\n",
    "f_current = f_change\n",
    "GD_X1.append(x1)\n",
    "GD_X2.append(x2)\n",
    "GD_Y.append(f_current)\n",
    "\n",
    "iter_num = 0\n",
    "while f_change > 1e-10 and iter_num < 100:\n",
    "    iter_num += 1\n",
    "    prex1 = x1\n",
    "    prex2 = x2\n",
    "    x1 = x1 - alpha * hx2(prex1, prex2)\n",
    "    x2 = x2 - alpha * hy2(prex1, prex2)\n",
    "    \n",
    "    tmp = f2(x1, x2)\n",
    "    f_change = np.abs(f_current - tmp)\n",
    "    \n",
    "    f_current  = tmp\n",
    "    GD_X1.append(x1)\n",
    "    GD_X2.append(x2)\n",
    "    GD_Y.append(f_current)\n",
    "print(u\"最终结果为:(%.5f, %.5f, %.5f)\" % (x1, x2, f_current))\n",
    "print(u\"迭代过程中X的取值，迭代次数:%d\" % iter_num)\n",
    "print(GD_X1)\n",
    "\n",
    "\n",
    "# 构建数据\n",
    "X1 = np.arange(-4, 4.5, 0.2)\n",
    "X2 = np.arange(-4, 4.5, 0.2)\n",
    "X1, X2 = np.meshgrid(X1, X2)\n",
    "Y = np.array(list(map(lambda t: f2(t[0], t[1]), zip(X1.flatten(), X2.flatten()))))\n",
    "Y.shape = X1.shape\n",
    "\n",
    "\n",
    "# 画图\n",
    "fig = plt.figure(facecolor='w')\n",
    "ax = Axes3D(fig)\n",
    "ax.plot_surface(X1, X2, Y, rstride=1, cstride=1, cmap=plt.cm.jet)\n",
    "ax.plot(GD_X1, GD_X2, GD_Y, 'bo--')\n",
    "\n",
    "ax.set_title(u'函数$y=0.6 * (θ1 + θ2)^2 - θ1 * θ2$;\\n学习率:%.3f; 最终解:(%.3f, %.3f, %.3f);迭代次数:%d' % (alpha, x1, x2, f_current, iter_num))\n",
    "plt.show()\n"
   ]
  },
  {
   "cell_type": "code",
   "execution_count": 16,
   "metadata": {
    "collapsed": false
   },
   "outputs": [
    {
     "name": "stdout",
     "output_type": "stream",
     "text": [
      "最终结果为:(-0.26080, 0.25810, 0.01161)\n",
      "迭代过程中X的取值，迭代次数:100\n",
      "[4, 3.44875, 2.974073125, 2.5650366334375, 2.2122840240807813, 1.907807009032696, 1.6447505126984427, 1.4172459115413019, 1.2202684228754865, 1.0495151438807482, 0.9013007490321259, 0.7724682876727775, 0.6603128941660266, 0.5625165400494098, 0.47709222866389206, 0.4023362645026025, 0.33678742770773373, 0.2791920536090157, 0.22847416210441832, 0.1837099055922843, 0.14410571011704013, 0.10897957499005037, 0.0777450736180692, 0.04989766451663487, 0.025002978131483666, 0.0026867935286923536, -0.01737353956673076, -0.035456442486597725, -0.05180239190676361, -0.06661929962544103, -0.08008711860698559, -0.09236178712881093, -0.10357860667595006, -0.11385513538065012, -0.12329366696331931, -0.1319833550054494, -0.1400020337262537, -0.1474177790301474, -0.15429024726011067, -0.1606718236770145, -0.1666086080542666, -0.17214126081702383, -0.17730572976855488, -0.18213387455004282, -0.1866540035031443, -0.19089133548622547, -0.19486839738342726, -0.1986053664961548, -0.20212036568125688, -0.20542971796658174, -0.20854816640499108, -0.2114890640985399, -0.21426453861507364, -0.21688563441259354, -0.21936243636754651, -0.22170417705900666, -0.223919330080677, -0.22601569132746346, -0.2280004499251203, -0.22988025023334507, -0.23166124614890812, -0.23334914876096757, -0.23494926826140156, -0.2364665508851536, -0.2379056115461277, -0.2392707627404325, -0.24056604020848607, -0.24179522577871324, -0.24296186775663323, -0.24406929917262773, -0.2451206541583799, -0.24611888268484797, -0.24706676386279, -0.2479669179795317, -0.24882181742221296, -0.2496337966176098, -0.2504050611013233, -0.25113769581425704, -0.2518336727115122, -0.25249485775782576, -0.2531230173741991, -0.25371982439219787, -0.25428686356536223, -0.2548256366810882, -0.25533756731108836, -0.25582400523399984, -0.2562862305597749, -0.2567254575820804, -0.2571428383819755, -0.25753946620356377, -0.2579163786200786, -0.2582745605069087, -0.2586149468363651, -0.25893842530750005, -0.25924583882298, -0.2595379878238647, -0.25981563249213424, -0.2600794948299109, -0.260330260623534, -0.2605685812999445, -0.26079507568221305]\n"
     ]
    }
   ],
   "source": [
    "# 二维原始图像\n",
    "def f2(x, y):\n",
    "    return 0.15 * (x + 0.5) ** 2 + 0.25 * (y  - 0.25) ** 2 + 0.35 * (1.5 * x - 0.2 * y + 0.35 ) ** 2  \n",
    "## 偏函数\n",
    "def hx2(x, y):\n",
    "    return 0.15 * 2 * (x + 0.5) + 0.25 * 2 * (1.5 * x - 0.2 * y + 0.35 ) * 1.5\n",
    "def hy2(x, y):\n",
    "    return 0.25 * 2 * (y  - 0.25) - 0.25 * 2 * (1.5 * x - 0.2 * y + 0.35 ) * 0.2\n",
    "\n",
    "# 使用梯度下降法求解\n",
    "GD_X1 = []\n",
    "GD_X2 = []\n",
    "GD_Y = []\n",
    "x1 = 4\n",
    "x2 = 4\n",
    "alpha = 0.1\n",
    "f_change = f2(x1, x2)\n",
    "f_current = f_change\n",
    "GD_X1.append(x1)\n",
    "GD_X2.append(x2)\n",
    "GD_Y.append(f_current)\n",
    "iter_num = 0\n",
    "while f_change > 1e-10 and iter_num < 20:\n",
    "    iter_num += 1\n",
    "    prex1 = x1\n",
    "    prex2 = x2\n",
    "    x1 = x1 - alpha * hx2(prex1, prex2)\n",
    "    x2 = x2 - alpha * hy2(prex1, prex2)\n",
    "    \n",
    "    tmp = f2(x1, x2)\n",
    "    f_change = np.abs(f_current - tmp)\n",
    "    f_current  = tmp\n",
    "    GD_X1.append(x1)\n",
    "    GD_X2.append(x2)\n",
    "    GD_Y.append(f_current)\n",
    "print(u\"最终结果为:(%.5f, %.5f, %.5f)\" % (x1, x2, f_current))\n",
    "print(u\"迭代过程中X的取值，迭代次数:%d\" % iter_num)\n",
    "print(GD_X1)\n",
    "\n",
    "\n",
    "# 构建数据\n",
    "X1 = np.arange(-4, 4.5, 0.2)\n",
    "X2 = np.arange(-4, 4.5, 0.2)\n",
    "X1, X2 = np.meshgrid(X1, X2)\n",
    "Y = np.array(list(map(lambda t: f2(t[0], t[1]), zip(X1.flatten(), X2.flatten()))))\n",
    "Y.shape = X1.shape\n",
    "\n",
    "\n",
    "# 画图\n",
    "fig = plt.figure(facecolor='w')\n",
    "ax = Axes3D(fig)\n",
    "ax.plot_surface(X1, X2, Y, rstride=1, cstride=1, cmap=plt.cm.jet)\n",
    "ax.plot(GD_X1, GD_X2, GD_Y, 'ko--')\n",
    "ax.set_xlabel('x')\n",
    "ax.set_ylabel('y')\n",
    "ax.set_zlabel('z')\n",
    "\n",
    "ax.set_title(u'函数;\\n学习率:%.3f; 最终解:(%.3f, %.3f, %.3f);迭代次数:%d' % (alpha, x1, x2, f_current, iter_num))\n",
    "plt.show()"
   ]
  },
  {
   "cell_type": "code",
   "execution_count": null,
   "metadata": {
    "collapsed": true
   },
   "outputs": [],
   "source": []
  }
 ],
 "metadata": {
  "kernelspec": {
   "display_name": "Python 3",
   "language": "python",
   "name": "python3"
  },
  "language_info": {
   "codemirror_mode": {
    "name": "ipython",
    "version": 3
   },
   "file_extension": ".py",
   "mimetype": "text/x-python",
   "name": "python",
   "nbconvert_exporter": "python",
   "pygments_lexer": "ipython3",
   "version": "3.6.6"
  }
 },
 "nbformat": 4,
 "nbformat_minor": 2
}
