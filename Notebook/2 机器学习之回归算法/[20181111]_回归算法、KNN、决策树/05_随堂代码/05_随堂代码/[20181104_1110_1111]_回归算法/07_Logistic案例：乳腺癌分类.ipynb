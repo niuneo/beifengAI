{
 "cells": [
  {
   "cell_type": "code",
   "execution_count": 12,
   "metadata": {
    "collapsed": false
   },
   "outputs": [],
   "source": [
    "import numpy as np\n",
    "import matplotlib as mpl\n",
    "import matplotlib.pyplot as plt\n",
    "import pandas as pd\n",
    "import warnings\n",
    "import sklearn\n",
    "from sklearn.linear_model import LogisticRegressionCV,LinearRegression\n",
    "from sklearn.linear_model.coordinate_descent import ConvergenceWarning\n",
    "from sklearn.model_selection import train_test_split\n",
    "from sklearn.preprocessing import StandardScaler"
   ]
  },
  {
   "cell_type": "code",
   "execution_count": 13,
   "metadata": {
    "collapsed": true
   },
   "outputs": [],
   "source": [
    "## 设置字符集，防止中文乱码\n",
    "mpl.rcParams['font.sans-serif']=[u'simHei']\n",
    "mpl.rcParams['axes.unicode_minus']=False\n",
    "## 拦截异常\n",
    "warnings.filterwarnings(action = 'ignore', category=ConvergenceWarning)"
   ]
  },
  {
   "cell_type": "code",
   "execution_count": 14,
   "metadata": {
    "collapsed": false
   },
   "outputs": [
    {
     "data": {
      "text/html": [
       "<div>\n",
       "<table border=\"1\" class=\"dataframe\">\n",
       "  <thead>\n",
       "    <tr style=\"text-align: right;\">\n",
       "      <th></th>\n",
       "      <th>id</th>\n",
       "      <th>Clump Thickness</th>\n",
       "      <th>Uniformity of Cell Size</th>\n",
       "      <th>Uniformity of Cell Shape</th>\n",
       "      <th>Marginal Adhesion</th>\n",
       "      <th>Single Epithelial Cell Size</th>\n",
       "      <th>Bare Nuclei</th>\n",
       "      <th>Bland Chromatin</th>\n",
       "      <th>Normal Nucleoli</th>\n",
       "      <th>Mitoses</th>\n",
       "      <th>Class</th>\n",
       "    </tr>\n",
       "  </thead>\n",
       "  <tbody>\n",
       "    <tr>\n",
       "      <th>0</th>\n",
       "      <td>1000025</td>\n",
       "      <td>5</td>\n",
       "      <td>1</td>\n",
       "      <td>1</td>\n",
       "      <td>1</td>\n",
       "      <td>2</td>\n",
       "      <td>1</td>\n",
       "      <td>3</td>\n",
       "      <td>1</td>\n",
       "      <td>1</td>\n",
       "      <td>2</td>\n",
       "    </tr>\n",
       "    <tr>\n",
       "      <th>1</th>\n",
       "      <td>1002945</td>\n",
       "      <td>5</td>\n",
       "      <td>4</td>\n",
       "      <td>4</td>\n",
       "      <td>5</td>\n",
       "      <td>7</td>\n",
       "      <td>10</td>\n",
       "      <td>3</td>\n",
       "      <td>2</td>\n",
       "      <td>1</td>\n",
       "      <td>2</td>\n",
       "    </tr>\n",
       "    <tr>\n",
       "      <th>2</th>\n",
       "      <td>1015425</td>\n",
       "      <td>3</td>\n",
       "      <td>1</td>\n",
       "      <td>1</td>\n",
       "      <td>1</td>\n",
       "      <td>2</td>\n",
       "      <td>2</td>\n",
       "      <td>3</td>\n",
       "      <td>1</td>\n",
       "      <td>1</td>\n",
       "      <td>2</td>\n",
       "    </tr>\n",
       "    <tr>\n",
       "      <th>3</th>\n",
       "      <td>1016277</td>\n",
       "      <td>6</td>\n",
       "      <td>8</td>\n",
       "      <td>8</td>\n",
       "      <td>1</td>\n",
       "      <td>3</td>\n",
       "      <td>4</td>\n",
       "      <td>3</td>\n",
       "      <td>7</td>\n",
       "      <td>1</td>\n",
       "      <td>2</td>\n",
       "    </tr>\n",
       "    <tr>\n",
       "      <th>4</th>\n",
       "      <td>1017023</td>\n",
       "      <td>4</td>\n",
       "      <td>1</td>\n",
       "      <td>1</td>\n",
       "      <td>3</td>\n",
       "      <td>2</td>\n",
       "      <td>1</td>\n",
       "      <td>3</td>\n",
       "      <td>1</td>\n",
       "      <td>1</td>\n",
       "      <td>2</td>\n",
       "    </tr>\n",
       "  </tbody>\n",
       "</table>\n",
       "</div>"
      ],
      "text/plain": [
       "        id  Clump Thickness  Uniformity of Cell Size  \\\n",
       "0  1000025                5                        1   \n",
       "1  1002945                5                        4   \n",
       "2  1015425                3                        1   \n",
       "3  1016277                6                        8   \n",
       "4  1017023                4                        1   \n",
       "\n",
       "   Uniformity of Cell Shape  Marginal Adhesion  Single Epithelial Cell Size  \\\n",
       "0                         1                  1                            2   \n",
       "1                         4                  5                            7   \n",
       "2                         1                  1                            2   \n",
       "3                         8                  1                            3   \n",
       "4                         1                  3                            2   \n",
       "\n",
       "  Bare Nuclei  Bland Chromatin  Normal Nucleoli  Mitoses  Class  \n",
       "0           1                3                1        1      2  \n",
       "1          10                3                2        1      2  \n",
       "2           2                3                1        1      2  \n",
       "3           4                3                7        1      2  \n",
       "4           1                3                1        1      2  "
      ]
     },
     "execution_count": 14,
     "metadata": {},
     "output_type": "execute_result"
    }
   ],
   "source": [
    "## 数据读取并处理异常数据\n",
    "path = \"datas/breast-cancer-wisconsin.data\"\n",
    "names = ['id','Clump Thickness','Uniformity of Cell Size','Uniformity of Cell Shape',\n",
    "         'Marginal Adhesion','Single Epithelial Cell Size','Bare Nuclei',\n",
    "        'Bland Chromatin','Normal Nucleoli','Mitoses','Class']\n",
    "\n",
    "df = pd.read_csv(path, header=None,names=names)\n",
    "\n",
    "datas = df.replace('?', np.nan).dropna(how = 'any') # 只要有行为空，就进行删除操作\n",
    "datas.head(5) ## 显示一下"
   ]
  },
  {
   "cell_type": "code",
   "execution_count": 15,
   "metadata": {
    "collapsed": true
   },
   "outputs": [],
   "source": [
    "# 1. 数据提取以及数据分隔\n",
    "## 提取\n",
    "X = datas[names[1:10]]\n",
    "Y = datas[names[10]]\n",
    "\n",
    "## 分隔\n",
    "X_train,X_test,Y_train,Y_test = train_test_split(X,Y,test_size=0.1,random_state=0)"
   ]
  },
  {
   "cell_type": "code",
   "execution_count": 16,
   "metadata": {
    "collapsed": true
   },
   "outputs": [],
   "source": [
    "# 2. 数据格式化(归一化)\n",
    "ss = StandardScaler()\n",
    "X_train = ss.fit_transform(X_train) ## 训练模型及归一化数据"
   ]
  },
  {
   "cell_type": "code",
   "execution_count": 17,
   "metadata": {
    "collapsed": false
   },
   "outputs": [],
   "source": [
    "# 3. 模型构建及训练\n",
    "## penalty: 过拟合解决参数,l1或者l2\n",
    "## solver: 参数优化方式\n",
    "### 当penalty为l1的时候，参数只能是：liblinear(坐标轴下降法)；\n",
    "### nlbfgs和cg都是关于目标函数的二阶泰勒展开\n",
    "### 当penalty为l2的时候，参数可以是：lbfgs(拟牛顿法)、newton-cg(牛顿法变种)，seg(minibatch)\n",
    "# 维度<10000时，lbfgs法比较好，   维度>10000时， cg法比较好，显卡计算的时候，lbfgs和cg都比seg快\n",
    "## multi_class: 分类方式参数；参数可选: ovr(默认)、multinomial；这两种方式在二元分类问题中，效果是一样的；在多元分类问题中，效果不一样\n",
    "### ovr: one-vs-rest， 对于多元分类的问题，先将其看做二元分类，分类完成后，再迭代对其中一类继续进行二元分类\n",
    "### multinomial: many-vs-many（MVM）,即Softmax分类效果\n",
    "## class_weight: 特征权重参数\n",
    "\n",
    "### TODO: Logistic回归是一种分类算法，不能应用于回归中(也即是说对于传入模型的y值来讲，不能是float类型，必须是int类型)\n",
    "\n",
    "lr = LogisticRegressionCV(multi_class='ovr',fit_intercept=True, Cs=np.logspace(-2, 2, 20), cv=2, penalty='l2', solver='lbfgs', tol=0.01)\n",
    "re=lr.fit(X_train, Y_train)"
   ]
  },
  {
   "cell_type": "code",
   "execution_count": 18,
   "metadata": {
    "collapsed": false,
    "scrolled": false
   },
   "outputs": [
    {
     "name": "stdout",
     "output_type": "stream",
     "text": [
      "准确率： 0.970684039088\n",
      "准确率： 0.985507246377\n",
      "稀疏化特征比率(有多少参数为0)：0.00%\n",
      "参数： [[ 1.3926311   0.17397478  0.65749877  0.8929026   0.36507062  1.36092964\n",
      "   0.91444624  0.63198866  0.75459326]]\n",
      "截距： [-1.02717163]\n",
      "[[  6.61838068e-06   9.99993382e-01]\n",
      " [  3.78575185e-05   9.99962142e-01]\n",
      " [  2.44249065e-15   1.00000000e+00]\n",
      " [  0.00000000e+00   1.00000000e+00]\n",
      " [  1.52850624e-03   9.98471494e-01]\n",
      " [  6.67061684e-05   9.99933294e-01]\n",
      " [  6.75536843e-07   9.99999324e-01]\n",
      " [  0.00000000e+00   1.00000000e+00]\n",
      " [  2.43117004e-05   9.99975688e-01]\n",
      " [  6.13092842e-04   9.99386907e-01]\n",
      " [  0.00000000e+00   1.00000000e+00]\n",
      " [  2.00330728e-06   9.99997997e-01]\n",
      " [  0.00000000e+00   1.00000000e+00]\n",
      " [  3.78575185e-05   9.99962142e-01]\n",
      " [  4.65824155e-08   9.99999953e-01]\n",
      " [  5.47788703e-10   9.99999999e-01]\n",
      " [  0.00000000e+00   1.00000000e+00]\n",
      " [  0.00000000e+00   1.00000000e+00]\n",
      " [  0.00000000e+00   1.00000000e+00]\n",
      " [  6.27260778e-07   9.99999373e-01]\n",
      " [  3.78575185e-05   9.99962142e-01]\n",
      " [  3.85098865e-06   9.99996149e-01]\n",
      " [  1.80189197e-12   1.00000000e+00]\n",
      " [  9.44640398e-05   9.99905536e-01]\n",
      " [  0.00000000e+00   1.00000000e+00]\n",
      " [  0.00000000e+00   1.00000000e+00]\n",
      " [  4.11688915e-06   9.99995883e-01]\n",
      " [  1.85886872e-05   9.99981411e-01]\n",
      " [  5.83016713e-06   9.99994170e-01]\n",
      " [  0.00000000e+00   1.00000000e+00]\n",
      " [  1.52850624e-03   9.98471494e-01]\n",
      " [  0.00000000e+00   1.00000000e+00]\n",
      " [  0.00000000e+00   1.00000000e+00]\n",
      " [  1.51713085e-05   9.99984829e-01]\n",
      " [  2.34685008e-05   9.99976531e-01]\n",
      " [  1.51713085e-05   9.99984829e-01]\n",
      " [  0.00000000e+00   1.00000000e+00]\n",
      " [  0.00000000e+00   1.00000000e+00]\n",
      " [  2.34685008e-05   9.99976531e-01]\n",
      " [  0.00000000e+00   1.00000000e+00]\n",
      " [  9.97563915e-07   9.99999002e-01]\n",
      " [  1.70686321e-07   9.99999829e-01]\n",
      " [  1.38382134e-04   9.99861618e-01]\n",
      " [  1.36080718e-04   9.99863919e-01]\n",
      " [  1.52850624e-03   9.98471494e-01]\n",
      " [  1.68154251e-05   9.99983185e-01]\n",
      " [  6.66097483e-04   9.99333903e-01]\n",
      " [  0.00000000e+00   1.00000000e+00]\n",
      " [  9.77502258e-07   9.99999022e-01]\n",
      " [  5.83016713e-06   9.99994170e-01]\n",
      " [  0.00000000e+00   1.00000000e+00]\n",
      " [  4.09496721e-06   9.99995905e-01]\n",
      " [  0.00000000e+00   1.00000000e+00]\n",
      " [  1.37819117e-06   9.99998622e-01]\n",
      " [  6.27260778e-07   9.99999373e-01]\n",
      " [  4.52734741e-07   9.99999547e-01]\n",
      " [  0.00000000e+00   1.00000000e+00]\n",
      " [  8.88178420e-16   1.00000000e+00]\n",
      " [  1.06976766e-08   9.99999989e-01]\n",
      " [  0.00000000e+00   1.00000000e+00]\n",
      " [  2.45780192e-04   9.99754220e-01]\n",
      " [  3.92389040e-04   9.99607611e-01]\n",
      " [  6.10681985e-05   9.99938932e-01]\n",
      " [  9.44640398e-05   9.99905536e-01]\n",
      " [  1.51713085e-05   9.99984829e-01]\n",
      " [  2.45780192e-04   9.99754220e-01]\n",
      " [  2.45780192e-04   9.99754220e-01]\n",
      " [  1.51713085e-05   9.99984829e-01]\n",
      " [  0.00000000e+00   1.00000000e+00]]\n"
     ]
    }
   ],
   "source": [
    "# 4. 模型效果获取\n",
    "r = re.score(X_train, Y_train)\n",
    "print (\"准确率：\", r)\n",
    "print (\"准确率：\", re.score(ss.transform(X_test), Y_test))\n",
    "print (\"稀疏化特征比率(有多少参数为0)：%.2f%%\" % (np.mean(lr.coef_.ravel() == 0) * 100))\n",
    "print (\"参数：\",re.coef_)\n",
    "print (\"截距：\",re.intercept_)\n",
    "print(re.predict_proba(X_test)) # 获取sigmoid函数返回的概率值"
   ]
  },
  {
   "cell_type": "code",
   "execution_count": 19,
   "metadata": {
    "collapsed": false
   },
   "outputs": [],
   "source": [
    "# # 5. 模型相关信息保存\n",
    "# ## 引入包\n",
    "# from sklearn.externals import joblib\n",
    "# ## 要求文件夹必须存在\n",
    "# joblib.dump(ss, \"datas/logistic/ss.model\") ## 将标准化模型保存\n",
    "# # joblib.dump(lr, \"datas/models/logistic/lr.model\") ## 将模型保存"
   ]
  },
  {
   "cell_type": "code",
   "execution_count": 20,
   "metadata": {
    "collapsed": true
   },
   "outputs": [],
   "source": [
    "# # 模型加载\n",
    "# ## 引入包\n",
    "# from sklearn.externals import joblib\n",
    "# oss = joblib.load(\"models/logistic/ss.model\")\n",
    "# olr = joblib.load(\"models/logistic/lr.model\")"
   ]
  },
  {
   "cell_type": "code",
   "execution_count": 21,
   "metadata": {
    "collapsed": false
   },
   "outputs": [],
   "source": [
    "# 数据预测\n",
    "## a. 预测数据格式化(归一化)\n",
    "X_test = ss.transform(X_test) # 使用模型进行归一化操作\n",
    "## b. 结果数据预测\n",
    "Y_predict = re.predict(X_test)"
   ]
  },
  {
   "cell_type": "code",
   "execution_count": 22,
   "metadata": {
    "collapsed": false
   },
   "outputs": [
    {
     "data": {
      "image/png": "[encoded data removed]",
      "text/plain": [
       "<matplotlib.figure.Figure at 0x176f6400dd8>"
      ]
     },
     "metadata": {},
     "output_type": "display_data"
    }
   ],
   "source": [
    "## c. 图表展示\n",
    "x_len = range(len(X_test))\n",
    "plt.figure(figsize=(14,7), facecolor='w')\n",
    "plt.ylim(0,6)\n",
    "plt.plot(x_len, Y_test, 'ro',markersize = 8, zorder=3, label=u'真实值')\n",
    "plt.plot(x_len, Y_predict, 'go', markersize = 14, zorder=2, label=u'预测值,准确率=%.3f' % re.score(X_test, Y_test))\n",
    "plt.legend(loc = 'upper left')\n",
    "plt.xlabel(u'数据编号', fontsize=18)\n",
    "plt.ylabel(u'乳腺癌类型', fontsize=18)\n",
    "plt.title(u'Logistic回归算法对数据进行分类', fontsize=20)\n",
    "plt.show()"
   ]
  },
  {
   "cell_type": "code",
   "execution_count": null,
   "metadata": {
    "collapsed": true
   },
   "outputs": [],
   "source": []
  }
 ],
 "metadata": {
  "kernelspec": {
   "display_name": "Python 3",
   "language": "python",
   "name": "python3"
  },
  "language_info": {
   "codemirror_mode": {
    "name": "ipython",
    "version": 3
   },
   "file_extension": ".py",
   "mimetype": "text/x-python",
   "name": "python",
   "nbconvert_exporter": "python",
   "pygments_lexer": "ipython3",
   "version": "3.6.6"
  }
 },
 "nbformat": 4,
 "nbformat_minor": 1
}
