{
 "cells": [
  {
   "cell_type": "code",
   "execution_count": 46,
   "metadata": {
    "collapsed": true
   },
   "outputs": [],
   "source": [
    "import numpy as np\n",
    "from hmmlearn import hmm\n",
    "import matplotlib.pyplot as plt\n",
    "import matplotlib as mpl\n",
    "from sklearn.metrics.pairwise import pairwise_distances_argmin\n",
    "import warnings"
   ]
  },
  {
   "cell_type": "code",
   "execution_count": 47,
   "metadata": {
    "collapsed": true
   },
   "outputs": [],
   "source": [
    "def expand(a, b):\n",
    "    d = (b - a) * 0.05\n",
    "    return a-d, b+d"
   ]
  },
  {
   "cell_type": "code",
   "execution_count": 48,
   "metadata": {
    "collapsed": true
   },
   "outputs": [],
   "source": [
    "warnings.filterwarnings(\"ignore\")   # hmmlearn(0.2.0) < sklearn(0.18)"
   ]
  },
  {
   "cell_type": "code",
   "execution_count": 49,
   "metadata": {
    "collapsed": false
   },
   "outputs": [
    {
     "name": "stdout",
     "output_type": "stream",
     "text": [
      "样本数目:1509, 每个样本的特征数目:4\n"
     ]
    },
    {
     "data": {
      "text/plain": [
       "array([[  1.15147943e+08,   2.43689088e+09,   4.70000000e-01,\n",
       "          9.00000000e-02],\n",
       "       [  9.67825750e+07,   2.03417408e+09,   2.40000000e-01,\n",
       "         -2.40000000e-01],\n",
       "       [  8.52360720e+07,   1.76180096e+09,   4.40000000e-01,\n",
       "         -2.80000000e-01],\n",
       "       ..., \n",
       "       [  1.75381840e+07,   3.13324800e+08,   2.90000000e-01,\n",
       "          2.10000000e-01],\n",
       "       [  3.56315260e+07,   6.50177344e+08,   4.80000000e-01,\n",
       "          3.40000000e-01],\n",
       "       [  1.83124240e+07,   3.33790688e+08,   2.20000000e-01,\n",
       "         -1.00000000e-01]])"
      ]
     },
     "execution_count": 49,
     "metadata": {},
     "output_type": "execute_result"
    }
   ],
   "source": [
    "# 加载数据\n",
    "# 0日期  1开盘  2最高  3最低  4收盘  5成交量  6成交额\n",
    "# delimiter: 指定分隔符\n",
    "# skiprows：给定前面多少行数据不进行处理\n",
    "# usecols: 给定第4 5 6 2 3这五列数据进行读入(下标从0开始)\n",
    "x = np.loadtxt('SH600000.txt', delimiter='\\t', skiprows=2, usecols=(4, 5, 6, 2, 3))\n",
    "x = x[:-1, :] # 最后一天的数据不考虑\n",
    "close_price = x[:, 0] # 收盘价\n",
    "volumn = x[:, 1] # 成交量\n",
    "amount = x[:, 2] # 成交额\n",
    "amplitude_price = x[:, 3] - x[:, 4] # 每天的最高价与最低价的差\n",
    "diff_price = np.diff(close_price)   # 涨跌值(每天相对于昨天的涨跌幅)\n",
    "volumn = volumn[1:]                 # 成交量(今天的成交量)\n",
    "amount = amount[1:]                 # 成交额(今天的成交额度)\n",
    "amplitude_price = amplitude_price[1:]   # 每日振幅(今天的振幅)\n",
    "\n",
    "# 相当于整个数据相当于一个序列，序列中的每个样本具有四个特征\n",
    "sample = np.column_stack((volumn, amount, amplitude_price, diff_price))    # 观测值\n",
    "print(\"样本数目:%d, 每个样本的特征数目:%d\" % sample.shape)\n",
    "sample"
   ]
  },
  {
   "cell_type": "code",
   "execution_count": 50,
   "metadata": {
    "collapsed": false
   },
   "outputs": [
    {
     "name": "stdout",
     "output_type": "stream",
     "text": [
      "[[  4.03112907e-026   6.31885681e-267   6.93815594e-104 ...,\n",
      "    2.23727514e-096   4.98183050e-193   0.00000000e+000]\n",
      " [  2.95966363e-008   2.74822748e-030   2.72959623e-020 ...,\n",
      "    3.41640596e-008   2.59298817e-052   1.06228993e-115]\n",
      " [  3.30635002e-013   2.37037585e-023   8.20456770e-023 ...,\n",
      "    3.09923216e-006   2.96914079e-050   1.13773561e-083]\n",
      " ..., \n",
      " [  4.45606520e-045   4.31505411e-005   1.71354189e-060 ...,\n",
      "    3.53700049e-009   1.49435744e-062   1.54323075e-002]\n",
      " [  1.06641252e-037   1.67192244e-006   1.10255153e-047 ...,\n",
      "    5.91800259e-006   4.15070540e-051   3.26812735e-018]\n",
      " [  7.08496983e-036   7.88661754e-005   1.39178271e-036 ...,\n",
      "    2.32456592e-010   7.48533142e-046   6.78180901e-001]]\n",
      "[16  4 14 ..., 10 11 29]\n"
     ]
    }
   ],
   "source": [
    "# 模型构建\n",
    "## 给定隐特征的数目\n",
    "n = 30\n",
    "model = hmm.GaussianHMM(n_components=n, random_state=28)\n",
    "model.fit(sample)\n",
    "y = model.predict_proba(sample) # 获取预测的概率\n",
    "print(y)\n",
    "print(model.predict(sample)) # 获取预测状态值"
   ]
  },
  {
   "cell_type": "code",
   "execution_count": 51,
   "metadata": {
    "collapsed": false
   },
   "outputs": [
    {
     "name": "stdout",
     "output_type": "stream",
     "text": [
      "部分数据的样本值:\n",
      "[[  1.15147943e+08   2.43689088e+09   4.70000000e-01   9.00000000e-02]\n",
      " [  9.67825750e+07   2.03417408e+09   2.40000000e-01  -2.40000000e-01]]\n",
      "(-82.41191676770723, array([16,  4]))\n",
      "[16  4]\n"
     ]
    }
   ],
   "source": [
    "# 预测部分数据\n",
    "test_sample = sample[:2].reshape((-1, sample.shape[1]))\n",
    "print(\"部分数据的样本值:\\n{}\".format(test_sample))\n",
    "print(model.decode(test_sample))\n",
    "print(model.predict(test_sample))"
   ]
  },
  {
   "cell_type": "code",
   "execution_count": 52,
   "metadata": {
    "collapsed": false
   },
   "outputs": [],
   "source": [
    "# 画图\n",
    "row_num = int(np.ceil((n+3)/3.0))\n",
    "t = np.arange(len(diff_price))\n",
    "mpl.rcParams['font.sans-serif'] = [u'SimHei']\n",
    "mpl.rcParams['axes.unicode_minus'] = False\n",
    "plt.figure(figsize=(row_num * 3, 9), facecolor='w')\n",
    "plt.subplot(row_num, 3, 1)\n",
    "plt.plot(t, diff_price, 'r-')\n",
    "plt.grid(True)\n",
    "plt.title(u'涨跌幅')\n",
    "plt.subplot(row_num, 3, 2)\n",
    "plt.plot(t, volumn, 'g-')\n",
    "plt.grid(True)\n",
    "plt.title(u'交易量')\n",
    "\n",
    "# 产生一个颜色\n",
    "clrs = plt.cm.terrain(np.linspace(0, 0.8, n))\n",
    "plt.subplot(row_num, 3, 3)\n",
    "for i, clr in enumerate(clrs):\n",
    "    # 画到一张图中\n",
    "    plt.plot(t, y[:, i], '-', color=clr, alpha=0.7)\n",
    "plt.title(u'所有组分')\n",
    "plt.grid(True)\n",
    "\n",
    "# 分开画\n",
    "for i, clr in enumerate(clrs):\n",
    "    plt.subplot(row_num, 3, i+4)\n",
    "    plt.plot(t, y[:, i], '-', color=clr)\n",
    "    plt.title(u'组分%d' % (i+1))\n",
    "    plt.grid(True)\n",
    "plt.suptitle(u'SH600000股票：GaussianHMM分解隐变量', fontsize=18)\n",
    "plt.tight_layout()\n",
    "plt.subplots_adjust(top=0.9)\n",
    "# plt.show()\n",
    "plt.savefig('hmm.png')"
   ]
  },
  {
   "cell_type": "code",
   "execution_count": 53,
   "metadata": {
    "collapsed": false
   },
   "outputs": [
    {
     "data": {
      "text/plain": [
       "['./hmm_30.m']"
      ]
     },
     "execution_count": 53,
     "metadata": {},
     "output_type": "execute_result"
    }
   ],
   "source": [
    "# 模型保存\n",
    "# 保存方式一：保存模型\n",
    "from sklearn.externals import joblib\n",
    "joblib.dump(model, './hmm_{}.m'.format(n))"
   ]
  },
  {
   "cell_type": "code",
   "execution_count": 54,
   "metadata": {
    "collapsed": true
   },
   "outputs": [],
   "source": [
    "# 模型保存\n",
    "# 保存方式二：保存隐状态(预测值)\n",
    "import pickle\n",
    "states = model.predict(sample)\n",
    "pickle.dump(states, open('./hmm_states_{}.pkl'.format(n), 'wb'))"
   ]
  },
  {
   "cell_type": "code",
   "execution_count": null,
   "metadata": {
    "collapsed": true
   },
   "outputs": [],
   "source": []
  }
 ],
 "metadata": {
  "kernelspec": {
   "display_name": "Python 3",
   "language": "python",
   "name": "python3"
  },
  "language_info": {
   "codemirror_mode": {
    "name": "ipython",
    "version": 3
   },
   "file_extension": ".py",
   "mimetype": "text/x-python",
   "name": "python",
   "nbconvert_exporter": "python",
   "pygments_lexer": "ipython3",
   "version": "3.6.6"
  }
 },
 "nbformat": 4,
 "nbformat_minor": 2
}
