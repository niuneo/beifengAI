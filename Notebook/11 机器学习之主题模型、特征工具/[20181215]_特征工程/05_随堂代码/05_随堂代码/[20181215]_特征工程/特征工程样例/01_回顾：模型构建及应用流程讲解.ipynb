{
 "cells": [
  {
   "cell_type": "markdown",
   "metadata": {},
   "source": [
    "# 模型的应用示例\n",
    "\n",
    "模型的应用一般包括一下几个核心步骤：\n",
    "- 模型构建\n",
    "    + 数据预处理\n",
    "    + 模型训练以及评估\n",
    "    + 模型持久化\n",
    "- 模型应用\n",
    "    + 加载模型\n",
    "    + 对测试数据进行预测"
   ]
  },
  {
   "cell_type": "markdown",
   "metadata": {},
   "source": [
    "有句话说得好：**人工智能，有多少人工就有多少智能！**目前的确有这样的一批劳动力，他们就是在从事数据标注的众包工作。"
   ]
  },
  {
   "cell_type": "markdown",
   "metadata": {},
   "source": [
    "所以说在机器学习领域中，我们会花费很多时间在这个前期的数据处理上。在前期处理数据上主要包括以下主要方式：\n",
    "- 异常数据处理\n",
    "- 数据去重\n",
    "- 哑编码\n",
    "- 归一化\n",
    "- 标准化\n",
    "- 区间缩放法\n",
    "- 连续数据离散化\n",
    "- 词袋法\n",
    "- TF-IDF\n",
    "- Word2Vec\n",
    "- 特征选择\n",
    "- PCA\n",
    "- LDA\n",
    "- 多项式扩展\n",
    "- 根据业务特征产生新的特征属性"
   ]
  },
  {
   "cell_type": "markdown",
   "metadata": {},
   "source": [
    "在模型训练中，一般根据预测的数据类型分别选择具体的分类算法、回归算法以及聚类算法。常见的算法列表如下：\n",
    "- 分类算法\n",
    "    + SVC\n",
    "    + 决策树\n",
    "    + Logistic回归\n",
    "    + 贝叶斯算法\n",
    "    + KNN\n",
    "    + 集成学习\n",
    "        * 随机森林\n",
    "        * Adaboost\n",
    "        * GBDT\n",
    "        * XGBoost\n",
    "- 回归算法\n",
    "    + SVR\n",
    "    + 决策树\n",
    "    + 线性回归\n",
    "    + KNN\n",
    "    + 集成学习\n",
    "        * 随机森林\n",
    "        * GBDT\n",
    "        * XGBoost\n",
    "- 聚类算法\n",
    "    + KMeans\n",
    "    + 层次聚类\n",
    "    + 密度聚类\n",
    "    + 谱聚类\n",
    "    + GMM高斯混合聚类\n",
    "    + LDA主题模型"
   ]
  },
  {
   "cell_type": "markdown",
   "metadata": {},
   "source": [
    "在持久化模型的时候，在机器学习领域一般有三种持久化模型的方式，具体方式如下：\n",
    "- 直接将模型持久化为磁盘文件\n",
    "    1. 将模型通过joblib持久化为磁盘文件\n",
    "    2. 在需要的位置直接通过joblib加载磁盘文件恢复模型对象\n",
    "- 使用模型对数据进行预测，并将预测结果保持到数据库中\n",
    "    1. 通过数据库相关的库将预测结果保存到数据库中\n",
    "    2. 在需要的位置直接根据相关条件从数据库中获取结果\n",
    "- 直接将模型的模型参数保持到数据库中\n",
    "    1. 通过数据库相关的库将模型参数直接保存到数据库中\n",
    "    2. 在需要的位置首先从数据库中加载模型参数，然后结合模型参数以及模型原理恢复模型对象，并对待预测样本进行预测产生预测值"
   ]
  },
  {
   "cell_type": "markdown",
   "metadata": {},
   "source": [
    "在模型加载的时候，根据使用的语言分成下列两种主要方式：\n",
    "- 针对持久化磁盘文件的，直接使用python web相关技术提供一个rest api，然后在后台通过Python语言加载模型对数据产生预测值。\n",
    "- 针对持久化预测结果和模型参数的，可以在任何一种语言中直接进行结果加载恢复"
   ]
  },
  {
   "cell_type": "code",
   "execution_count": null,
   "metadata": {
    "collapsed": true
   },
   "outputs": [],
   "source": []
  }
 ],
 "metadata": {
  "kernelspec": {
   "display_name": "Python 3",
   "language": "python",
   "name": "python3"
  },
  "language_info": {
   "codemirror_mode": {
    "name": "ipython",
    "version": 3
   },
   "file_extension": ".py",
   "mimetype": "text/x-python",
   "name": "python",
   "nbconvert_exporter": "python",
   "pygments_lexer": "ipython3",
   "version": "3.6.6"
  }
 },
 "nbformat": 4,
 "nbformat_minor": 2
}
