{
 "cells": [
  {
   "cell_type": "markdown",
   "metadata": {},
   "source": [
    "## 实现方式\n",
    "- 仅仅使用基于原始特征产生的HMM隐特征构建模型"
   ]
  },
  {
   "cell_type": "code",
   "execution_count": 1,
   "metadata": {
    "collapsed": false
   },
   "outputs": [],
   "source": [
    "import os\n",
    "import warnings\n",
    "import numpy as np\n",
    "import pandas as pd\n",
    "import matplotlib.pylab as plt\n",
    "from sklearn import svm\n",
    "from sklearn import tree\n",
    "from sklearn import metrics\n",
    "from sklearn import preprocessing\n",
    "import talib as ta\n",
    "from hmmlearn import hmm"
   ]
  },
  {
   "cell_type": "code",
   "execution_count": 2,
   "metadata": {
    "collapsed": true
   },
   "outputs": [],
   "source": [
    "np.random.seed(28)"
   ]
  },
  {
   "cell_type": "code",
   "execution_count": 3,
   "metadata": {
    "collapsed": false
   },
   "outputs": [],
   "source": [
    "warnings.filterwarnings('ignore')"
   ]
  },
  {
   "cell_type": "code",
   "execution_count": 4,
   "metadata": {
    "collapsed": true
   },
   "outputs": [],
   "source": [
    "%matplotlib inline"
   ]
  },
  {
   "cell_type": "code",
   "execution_count": 5,
   "metadata": {
    "collapsed": true
   },
   "outputs": [],
   "source": [
    "plt.rcParams['font.sans-serif'] = 'SimHei'\n",
    "plt.rcParams['axes.unicode_minus'] = False"
   ]
  },
  {
   "cell_type": "code",
   "execution_count": 6,
   "metadata": {
    "collapsed": true
   },
   "outputs": [],
   "source": [
    "stockcode = '000001.SZ'\n",
    "stockname = '平安银行'\n",
    "file_path = './data/000001.SZ_day_qfq.csv'\n",
    "stockfile = pd.read_csv(file_path, index_col='trade_date', parse_dates=True)"
   ]
  },
  {
   "cell_type": "code",
   "execution_count": 7,
   "metadata": {
    "collapsed": true
   },
   "outputs": [],
   "source": [
    "def calc_profit(data, position_period=5):\n",
    "    \"\"\"\n",
    "    计算持仓收益，并给定标签\n",
    "    \"\"\"\n",
    "    price = data['close']\n",
    "    data['profit'] = (data['close'].shift(-position_period) - price) / price * 100.0\n",
    "    data['label'] = 0\n",
    "    data.loc[data['profit'] > 1.0, 'label'] = 1"
   ]
  },
  {
   "cell_type": "code",
   "execution_count": 8,
   "metadata": {
    "collapsed": true
   },
   "outputs": [],
   "source": [
    "# 计算收益并给定标签\n",
    "calc_profit(stockfile)"
   ]
  },
  {
   "cell_type": "markdown",
   "metadata": {},
   "source": [
    "#### 加入隐特征"
   ]
  },
  {
   "cell_type": "code",
   "execution_count": 9,
   "metadata": {
    "collapsed": false
   },
   "outputs": [
    {
     "name": "stdout",
     "output_type": "stream",
     "text": [
      "样本数目:2551, 每个样本的特征数目:4\n"
     ]
    }
   ],
   "source": [
    "amplitude_price = stockfile['high'] - stockfile['low'] # 每天的最高价与最低价的差\n",
    "diff_price = np.insert(np.diff(stockfile['close']), 0, 0)   # 涨跌值(每天相对于昨天的涨跌幅)\n",
    "volumn = stockfile['vol']                 # 成交量(今天的成交量)\n",
    "amount = stockfile['amount']              # 成交额(今天的成交额度)\n",
    "\n",
    "# 相当于整个数据相当于一个序列，序列中的每个样本具有四个特征\n",
    "sample = np.column_stack((volumn, amount, amplitude_price, diff_price)) \n",
    "print(\"样本数目:%d, 每个样本的特征数目:%d\" % sample.shape)"
   ]
  },
  {
   "cell_type": "code",
   "execution_count": 10,
   "metadata": {
    "collapsed": false
   },
   "outputs": [
    {
     "data": {
      "text/plain": [
       "GaussianHMM(algorithm='viterbi', covariance_type='diag', covars_prior=0.01,\n",
       "      covars_weight=1, init_params='stmc', means_prior=0, means_weight=0,\n",
       "      min_covar=0.001, n_components=30, n_iter=10, params='stmc',\n",
       "      random_state=28, startprob_prior=1.0, tol=0.01, transmat_prior=1.0,\n",
       "      verbose=False)"
      ]
     },
     "execution_count": 10,
     "metadata": {},
     "output_type": "execute_result"
    }
   ],
   "source": [
    "# 模型构建\n",
    "## 给定隐特征的数目\n",
    "n = 30\n",
    "model = hmm.GaussianHMM(n_components=n, random_state=28)\n",
    "model.fit(sample)"
   ]
  },
  {
   "cell_type": "code",
   "execution_count": 11,
   "metadata": {
    "collapsed": true
   },
   "outputs": [],
   "source": [
    "# 获取隐状态，并将类型转换为字符串类型\n",
    "states = model.predict(sample).astype(np.str)"
   ]
  },
  {
   "cell_type": "code",
   "execution_count": 12,
   "metadata": {
    "collapsed": false
   },
   "outputs": [],
   "source": [
    "# 将隐状态添加到DataFrame中，并进行哑编码操作\n",
    "stockfile['states'] = states\n",
    "stockfile = pd.get_dummies(stockfile)"
   ]
  },
  {
   "cell_type": "code",
   "execution_count": 13,
   "metadata": {
    "collapsed": false
   },
   "outputs": [
    {
     "name": "stdout",
     "output_type": "stream",
     "text": [
      "<class 'pandas.core.frame.DataFrame'>\n",
      "DatetimeIndex: 2551 entries, 2008-01-02 to 2018-10-31\n",
      "Data columns (total 41 columns):\n",
      "open          2551 non-null float64\n",
      "high          2551 non-null float64\n",
      "low           2551 non-null float64\n",
      "close         2551 non-null float64\n",
      "pre_close     2551 non-null float64\n",
      "change        2551 non-null float64\n",
      "pct_change    2551 non-null float64\n",
      "vol           2551 non-null float64\n",
      "amount        2551 non-null float64\n",
      "profit        2546 non-null float64\n",
      "label         2551 non-null int64\n",
      "states_0      2551 non-null uint8\n",
      "states_1      2551 non-null uint8\n",
      "states_10     2551 non-null uint8\n",
      "states_11     2551 non-null uint8\n",
      "states_12     2551 non-null uint8\n",
      "states_13     2551 non-null uint8\n",
      "states_14     2551 non-null uint8\n",
      "states_15     2551 non-null uint8\n",
      "states_16     2551 non-null uint8\n",
      "states_17     2551 non-null uint8\n",
      "states_18     2551 non-null uint8\n",
      "states_19     2551 non-null uint8\n",
      "states_2      2551 non-null uint8\n",
      "states_20     2551 non-null uint8\n",
      "states_21     2551 non-null uint8\n",
      "states_22     2551 non-null uint8\n",
      "states_23     2551 non-null uint8\n",
      "states_24     2551 non-null uint8\n",
      "states_25     2551 non-null uint8\n",
      "states_26     2551 non-null uint8\n",
      "states_27     2551 non-null uint8\n",
      "states_28     2551 non-null uint8\n",
      "states_29     2551 non-null uint8\n",
      "states_3      2551 non-null uint8\n",
      "states_4      2551 non-null uint8\n",
      "states_5      2551 non-null uint8\n",
      "states_6      2551 non-null uint8\n",
      "states_7      2551 non-null uint8\n",
      "states_8      2551 non-null uint8\n",
      "states_9      2551 non-null uint8\n",
      "dtypes: float64(10), int64(1), uint8(30)\n",
      "memory usage: 313.9 KB\n"
     ]
    }
   ],
   "source": [
    "stockfile.info()"
   ]
  },
  {
   "cell_type": "code",
   "execution_count": 14,
   "metadata": {
    "collapsed": false
   },
   "outputs": [
    {
     "data": {
      "text/plain": [
       "high        open      0.998200\n",
       "low         open      0.998651\n",
       "            high      0.997505\n",
       "close       open      0.997121\n",
       "            high      0.998778\n",
       "            low       0.998336\n",
       "pct_change  change    0.932152\n",
       "vol         open      0.594773\n",
       "            high      0.620646\n",
       "            low       0.585415\n",
       "            close     0.608256\n",
       "amount      open      0.557333\n",
       "            high      0.585513\n",
       "            low       0.544733\n",
       "            close     0.570341\n",
       "            vol       0.951830\n",
       "label       profit    0.715584\n",
       "dtype: float64"
      ]
     },
     "execution_count": 14,
     "metadata": {},
     "output_type": "execute_result"
    }
   ],
   "source": [
    "# 查看所有特征属性之间的相关性\n",
    "corr = stockfile.corr()\n",
    "corr.loc[:,:] = np.tril(corr, k=-1)\n",
    "corr = corr.stack()\n",
    "corr = corr[(corr > 0.5) | (corr < -0.5)]\n",
    "corr"
   ]
  },
  {
   "cell_type": "markdown",
   "metadata": {},
   "source": [
    "初始模型构建"
   ]
  },
  {
   "cell_type": "markdown",
   "metadata": {},
   "source": [
    "* 获取特征属性和目标属性"
   ]
  },
  {
   "cell_type": "code",
   "execution_count": 15,
   "metadata": {
    "collapsed": false
   },
   "outputs": [
    {
     "name": "stdout",
     "output_type": "stream",
     "text": [
      "<class 'pandas.core.frame.DataFrame'>\n",
      "DatetimeIndex: 2551 entries, 2008-01-02 to 2018-10-31\n",
      "Data columns (total 41 columns):\n",
      "open          2551 non-null float64\n",
      "high          2551 non-null float64\n",
      "low           2551 non-null float64\n",
      "close         2551 non-null float64\n",
      "pre_close     2551 non-null float64\n",
      "change        2551 non-null float64\n",
      "pct_change    2551 non-null float64\n",
      "vol           2551 non-null float64\n",
      "amount        2551 non-null float64\n",
      "profit        2546 non-null float64\n",
      "label         2551 non-null int64\n",
      "states_0      2551 non-null uint8\n",
      "states_1      2551 non-null uint8\n",
      "states_10     2551 non-null uint8\n",
      "states_11     2551 non-null uint8\n",
      "states_12     2551 non-null uint8\n",
      "states_13     2551 non-null uint8\n",
      "states_14     2551 non-null uint8\n",
      "states_15     2551 non-null uint8\n",
      "states_16     2551 non-null uint8\n",
      "states_17     2551 non-null uint8\n",
      "states_18     2551 non-null uint8\n",
      "states_19     2551 non-null uint8\n",
      "states_2      2551 non-null uint8\n",
      "states_20     2551 non-null uint8\n",
      "states_21     2551 non-null uint8\n",
      "states_22     2551 non-null uint8\n",
      "states_23     2551 non-null uint8\n",
      "states_24     2551 non-null uint8\n",
      "states_25     2551 non-null uint8\n",
      "states_26     2551 non-null uint8\n",
      "states_27     2551 non-null uint8\n",
      "states_28     2551 non-null uint8\n",
      "states_29     2551 non-null uint8\n",
      "states_3      2551 non-null uint8\n",
      "states_4      2551 non-null uint8\n",
      "states_5      2551 non-null uint8\n",
      "states_6      2551 non-null uint8\n",
      "states_7      2551 non-null uint8\n",
      "states_8      2551 non-null uint8\n",
      "states_9      2551 non-null uint8\n",
      "dtypes: float64(10), int64(1), uint8(30)\n",
      "memory usage: 313.9 KB\n",
      "<class 'pandas.core.frame.DataFrame'>\n",
      "DatetimeIndex: 2551 entries, 2008-01-02 to 2018-10-31\n",
      "Data columns (total 31 columns):\n",
      "label        2551 non-null int64\n",
      "states_0     2551 non-null uint8\n",
      "states_1     2551 non-null uint8\n",
      "states_10    2551 non-null uint8\n",
      "states_11    2551 non-null uint8\n",
      "states_12    2551 non-null uint8\n",
      "states_13    2551 non-null uint8\n",
      "states_14    2551 non-null uint8\n",
      "states_15    2551 non-null uint8\n",
      "states_16    2551 non-null uint8\n",
      "states_17    2551 non-null uint8\n",
      "states_18    2551 non-null uint8\n",
      "states_19    2551 non-null uint8\n",
      "states_2     2551 non-null uint8\n",
      "states_20    2551 non-null uint8\n",
      "states_21    2551 non-null uint8\n",
      "states_22    2551 non-null uint8\n",
      "states_23    2551 non-null uint8\n",
      "states_24    2551 non-null uint8\n",
      "states_25    2551 non-null uint8\n",
      "states_26    2551 non-null uint8\n",
      "states_27    2551 non-null uint8\n",
      "states_28    2551 non-null uint8\n",
      "states_29    2551 non-null uint8\n",
      "states_3     2551 non-null uint8\n",
      "states_4     2551 non-null uint8\n",
      "states_5     2551 non-null uint8\n",
      "states_6     2551 non-null uint8\n",
      "states_7     2551 non-null uint8\n",
      "states_8     2551 non-null uint8\n",
      "states_9     2551 non-null uint8\n",
      "dtypes: int64(1), uint8(30)\n",
      "memory usage: 114.6 KB\n",
      "训练数据格式:(2040, 31), 测试数据格式:(511, 31)\n"
     ]
    }
   ],
   "source": [
    "stockfile.info()\n",
    "stock_data = stockfile.drop(['open', 'high', 'low', 'pre_close',\n",
    "                             'change', 'pct_change', 'vol', 'amount',\n",
    "                             'profit','close'], axis=1)\n",
    "stock_data.info()\n",
    "\n",
    "split_idx = int(4.0 * stock_data.shape[0] / 5)\n",
    "stock_train_data, stock_test_data = stock_data.iloc[:split_idx,:], stock_data.iloc[split_idx:, :]\n",
    "print(\"训练数据格式:{}, 测试数据格式:{}\".format(stock_train_data.shape, stock_test_data.shape))\n",
    "\n",
    "# 获取收盘价\n",
    "buy_price = stockfile['close']\n",
    "train_data_buy_price = buy_price[:split_idx]\n",
    "test_data_buy_price = buy_price[split_idx:]"
   ]
  },
  {
   "cell_type": "markdown",
   "metadata": {},
   "source": [
    "* 数据分割"
   ]
  },
  {
   "cell_type": "code",
   "execution_count": 16,
   "metadata": {
    "collapsed": false
   },
   "outputs": [
    {
     "name": "stdout",
     "output_type": "stream",
     "text": [
      "训练数据格式:(2040, 30), 测试数据格式:(511, 30)\n"
     ]
    }
   ],
   "source": [
    "X = stock_data.drop('label', axis=1)\n",
    "Y = stock_data['label']\n",
    "x_train = stock_train_data.drop('label', axis=1)\n",
    "x_test = stock_test_data.drop('label', axis=1)\n",
    "y_train = stock_train_data['label']\n",
    "y_test = stock_test_data['label']\n",
    "print(\"训练数据格式:{}, 测试数据格式:{}\".format(x_train.shape, x_test.shape))"
   ]
  },
  {
   "cell_type": "markdown",
   "metadata": {},
   "source": [
    "* 模型训练"
   ]
  },
  {
   "cell_type": "code",
   "execution_count": 17,
   "metadata": {
    "collapsed": true
   },
   "outputs": [],
   "source": [
    "# scaler = preprocessing.StandardScaler(with_mean=True, with_std=True)\n",
    "# scaler = preprocessing.MinMaxScaler(feature_range=(-10,10))\n",
    "# x_train = scaler.fit_transform(x_train, y_train)"
   ]
  },
  {
   "cell_type": "code",
   "execution_count": 18,
   "metadata": {
    "collapsed": false
   },
   "outputs": [
    {
     "data": {
      "text/plain": [
       "DecisionTreeClassifier(class_weight=None, criterion='gini', max_depth=10,\n",
       "            max_features=None, max_leaf_nodes=None,\n",
       "            min_impurity_decrease=0.0, min_impurity_split=None,\n",
       "            min_samples_leaf=1, min_samples_split=2,\n",
       "            min_weight_fraction_leaf=0.0, presort=False, random_state=None,\n",
       "            splitter='best')"
      ]
     },
     "execution_count": 18,
     "metadata": {},
     "output_type": "execute_result"
    }
   ],
   "source": [
    "algo = tree.DecisionTreeClassifier(max_depth=10)\n",
    "algo.fit(x_train, y_train)"
   ]
  },
  {
   "cell_type": "markdown",
   "metadata": {},
   "source": [
    "* 模型效果评估"
   ]
  },
  {
   "cell_type": "code",
   "execution_count": 19,
   "metadata": {
    "collapsed": false
   },
   "outputs": [
    {
     "name": "stdout",
     "output_type": "stream",
     "text": [
      "训练数据准确率:0.628921568627451\n",
      "测试数据准确率:0.5792563600782779\n",
      "训练数据的效果混淆矩阵:\n",
      "[[1188   73]\n",
      " [ 684   95]]\n",
      "训练数据的效果report:\n",
      "              precision    recall  f1-score   support\n",
      "\n",
      "           0       0.63      0.94      0.76      1261\n",
      "           1       0.57      0.12      0.20       779\n",
      "\n",
      "   micro avg       0.63      0.63      0.63      2040\n",
      "   macro avg       0.60      0.53      0.48      2040\n",
      "weighted avg       0.61      0.63      0.55      2040\n",
      "\n",
      "测试数据的效果混淆矩阵:\n",
      "[[273  60]\n",
      " [155  23]]\n",
      "测试数据的效果report:\n",
      "              precision    recall  f1-score   support\n",
      "\n",
      "           0       0.64      0.82      0.72       333\n",
      "           1       0.28      0.13      0.18       178\n",
      "\n",
      "   micro avg       0.58      0.58      0.58       511\n",
      "   macro avg       0.46      0.47      0.45       511\n",
      "weighted avg       0.51      0.58      0.53       511\n",
      "\n",
      "所有数据准确率:0.6189729517836142\n",
      "所有数据的效果混淆矩阵:\n",
      "[[1461  133]\n",
      " [ 839  118]]\n",
      "所有数据的效果report:\n",
      "              precision    recall  f1-score   support\n",
      "\n",
      "           0       0.64      0.92      0.75      1594\n",
      "           1       0.47      0.12      0.20       957\n",
      "\n",
      "   micro avg       0.62      0.62      0.62      2551\n",
      "   macro avg       0.55      0.52      0.47      2551\n",
      "weighted avg       0.57      0.62      0.54      2551\n",
      "\n"
     ]
    }
   ],
   "source": [
    "y_pred_test = algo.predict(x_test)\n",
    "y_pred_train = algo.predict(x_train)\n",
    "y_pred_all = algo.predict(X)\n",
    "print(\"训练数据准确率:{}\".format(metrics.accuracy_score(y_train, y_pred_train)))\n",
    "print(\"测试数据准确率:{}\".format(metrics.accuracy_score(y_test, y_pred_test)))\n",
    "print(\"训练数据的效果混淆矩阵:\\n{}\".format(metrics.confusion_matrix(y_train, y_pred_train)))\n",
    "print(\"训练数据的效果report:\\n{}\".format(metrics.classification_report(y_train, y_pred_train)))\n",
    "print(\"测试数据的效果混淆矩阵:\\n{}\".format(metrics.confusion_matrix(y_test, y_pred_test)))\n",
    "print(\"测试数据的效果report:\\n{}\".format(metrics.classification_report(y_test, y_pred_test)))\n",
    "print(\"所有数据准确率:{}\".format(metrics.accuracy_score(Y, y_pred_all)))\n",
    "print(\"所有数据的效果混淆矩阵:\\n{}\".format(metrics.confusion_matrix(Y, y_pred_all)))\n",
    "print(\"所有数据的效果report:\\n{}\".format(metrics.classification_report(Y, y_pred_all)))\n"
   ]
  },
  {
   "cell_type": "markdown",
   "metadata": {
    "collapsed": true
   },
   "source": [
    "#### 计算在当前模型情况下的，最终效果"
   ]
  },
  {
   "cell_type": "code",
   "execution_count": 20,
   "metadata": {
    "collapsed": true
   },
   "outputs": [],
   "source": [
    "def calc_rate_of_return_by_state(buy_price, buy_infos, initial_capital=100000.0):\n",
    "    \"\"\"\n",
    "    buy_infos: 购买信息，True表示购买，False表示卖出\n",
    "    :param buy_price: 价格信息\n",
    "    :param buy_infos:\n",
    "    :param initial_capital: 初始资本\n",
    "    :return:\n",
    "    \"\"\"\n",
    "    # 资本\n",
    "    capital = initial_capital\n",
    "    # 持有的股本\n",
    "    hold_equity = 0.0\n",
    "\n",
    "    flag = False\n",
    "    for idx, buy_flag in enumerate(buy_infos):\n",
    "        if buy_flag:\n",
    "            # 当需要进行购买操作的时候，两种情况：如果之前就是购买，那就继续持有；否则全部买入\n",
    "            if not flag:\n",
    "                # 买入\n",
    "                hold_equity = 1.0 * capital / buy_price[idx]\n",
    "                flag = True\n",
    "                capital = 0.0\n",
    "        else:\n",
    "            # 当需要进行卖出操作的时候，两种情况：如果之前就是卖出, 那么继续不买入；否则卖出\n",
    "            if flag:\n",
    "                # 卖出\n",
    "                flag = False\n",
    "                capital = hold_equity * buy_price[idx]\n",
    "                hold_equity = 0.0\n",
    "\n",
    "    # 计算最终的金额以及收益率\n",
    "    total_capital = capital + hold_equity * buy_price[-1]\n",
    "    return total_capital, (total_capital - initial_capital) / initial_capital\n"
   ]
  },
  {
   "cell_type": "code",
   "execution_count": 21,
   "metadata": {
    "collapsed": false
   },
   "outputs": [
    {
     "name": "stdout",
     "output_type": "stream",
     "text": [
      "所有数据上\n",
      "原始随机情况下:\n",
      "(124615.43419521823, 0.2461543419521823)\n",
      "模型预测情况下:\n",
      "(209167.82312555448, 1.0916782312555449)\n"
     ]
    }
   ],
   "source": [
    "print(\"所有数据上\")\n",
    "print(\"原始随机情况下:\")\n",
    "buy_infos = np.ones_like(buy_price, dtype=np.bool)\n",
    "buy_infos[::5] = False\n",
    "print(calc_rate_of_return_by_state(buy_price, buy_infos))\n",
    "print(\"模型预测情况下:\")\n",
    "buy_infos = y_pred_all.astype(np.bool)\n",
    "print(calc_rate_of_return_by_state(buy_price, buy_infos))"
   ]
  },
  {
   "cell_type": "code",
   "execution_count": 22,
   "metadata": {
    "collapsed": false
   },
   "outputs": [
    {
     "name": "stdout",
     "output_type": "stream",
     "text": [
      "训练数据上\n",
      "原始随机情况下:\n",
      "(97989.39091047984, -0.02010609089520163)\n",
      "模型预测情况下:\n",
      "(214689.5643785727, 1.146895643785727)\n"
     ]
    }
   ],
   "source": [
    "print(\"训练数据上\")\n",
    "print(\"原始随机情况下:\")\n",
    "buy_infos = np.ones_like(train_data_buy_price, dtype=np.bool)\n",
    "buy_infos[::5] = False\n",
    "print(calc_rate_of_return_by_state(train_data_buy_price, buy_infos))\n",
    "print(\"模型预测情况下:\")\n",
    "buy_infos = y_pred_train.astype(np.bool)\n",
    "print(calc_rate_of_return_by_state(train_data_buy_price, buy_infos))"
   ]
  },
  {
   "cell_type": "code",
   "execution_count": 23,
   "metadata": {
    "collapsed": false
   },
   "outputs": [
    {
     "name": "stdout",
     "output_type": "stream",
     "text": [
      "测试数据上\n",
      "原始随机情况下:\n",
      "(127315.7470851489, 0.27315747085148906)\n",
      "模型预测情况下:\n",
      "(97428.03462804486, -0.025719653719551424)\n"
     ]
    }
   ],
   "source": [
    "print(\"测试数据上\")\n",
    "print(\"原始随机情况下:\")\n",
    "buy_infos = np.ones_like(test_data_buy_price, dtype=np.bool)\n",
    "buy_infos[::5] = False\n",
    "print(calc_rate_of_return_by_state(test_data_buy_price, buy_infos))\n",
    "print(\"模型预测情况下:\")\n",
    "buy_infos = y_pred_test.astype(np.bool)\n",
    "print(calc_rate_of_return_by_state(test_data_buy_price, buy_infos))"
   ]
  },
  {
   "cell_type": "code",
   "execution_count": null,
   "metadata": {
    "collapsed": true
   },
   "outputs": [],
   "source": []
  }
 ],
 "metadata": {
  "kernelspec": {
   "display_name": "Python 3",
   "language": "python",
   "name": "python3"
  },
  "language_info": {
   "codemirror_mode": {
    "name": "ipython",
    "version": 3
   },
   "file_extension": ".py",
   "mimetype": "text/x-python",
   "name": "python",
   "nbconvert_exporter": "python",
   "pygments_lexer": "ipython3",
   "version": "3.6.6"
  }
 },
 "nbformat": 4,
 "nbformat_minor": 2
}
