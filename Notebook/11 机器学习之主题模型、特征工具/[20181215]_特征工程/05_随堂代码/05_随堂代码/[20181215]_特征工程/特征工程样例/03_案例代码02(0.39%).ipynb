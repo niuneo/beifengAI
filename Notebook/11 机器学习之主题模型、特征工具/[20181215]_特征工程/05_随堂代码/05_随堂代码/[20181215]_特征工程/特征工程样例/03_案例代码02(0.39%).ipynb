{
 "cells": [
  {
   "cell_type": "markdown",
   "metadata": {},
   "source": [
    "## 实现方式\n",
    "- 在原始数据的基础上加入一个特征工程，区间缩放法"
   ]
  },
  {
   "cell_type": "code",
   "execution_count": 1,
   "metadata": {
    "collapsed": true
   },
   "outputs": [],
   "source": [
    "import os\n",
    "import warnings\n",
    "import numpy as np\n",
    "import pandas as pd\n",
    "import matplotlib.pylab as plt\n",
    "from sklearn import svm\n",
    "from sklearn import metrics\n",
    "from sklearn import preprocessing"
   ]
  },
  {
   "cell_type": "code",
   "execution_count": 2,
   "metadata": {
    "collapsed": true
   },
   "outputs": [],
   "source": [
    "np.random.seed(28)"
   ]
  },
  {
   "cell_type": "code",
   "execution_count": 3,
   "metadata": {
    "collapsed": false
   },
   "outputs": [],
   "source": [
    "warnings.filterwarnings('ignore')"
   ]
  },
  {
   "cell_type": "code",
   "execution_count": 4,
   "metadata": {
    "collapsed": true
   },
   "outputs": [],
   "source": [
    "%matplotlib inline"
   ]
  },
  {
   "cell_type": "code",
   "execution_count": 5,
   "metadata": {
    "collapsed": true
   },
   "outputs": [],
   "source": [
    "plt.rcParams['font.sans-serif'] = 'SimHei'\n",
    "plt.rcParams['axes.unicode_minus'] = False"
   ]
  },
  {
   "cell_type": "code",
   "execution_count": 6,
   "metadata": {
    "collapsed": true
   },
   "outputs": [],
   "source": [
    "stockcode = '000001.SZ'\n",
    "stockname = '平安银行'\n",
    "file_path = './data/000001.SZ_day_qfq.csv'\n",
    "stockfile = pd.read_csv(file_path, index_col='trade_date', parse_dates=True)"
   ]
  },
  {
   "cell_type": "code",
   "execution_count": 7,
   "metadata": {
    "collapsed": true
   },
   "outputs": [],
   "source": [
    "def calc_profit(data, position_period=5):\n",
    "    \"\"\"\n",
    "    计算持仓收益，并给定标签\n",
    "    \"\"\"\n",
    "    price = data['close']\n",
    "    data['profit'] = (data['close'].shift(-position_period) - price) / price * 100.0\n",
    "    data['label'] = 0\n",
    "    data.loc[data['profit'] > 1.0, 'label'] = 1"
   ]
  },
  {
   "cell_type": "code",
   "execution_count": 8,
   "metadata": {
    "collapsed": true
   },
   "outputs": [],
   "source": [
    "# 计算收益并给定标签\n",
    "calc_profit(stockfile)"
   ]
  },
  {
   "cell_type": "code",
   "execution_count": 9,
   "metadata": {
    "collapsed": false
   },
   "outputs": [
    {
     "name": "stdout",
     "output_type": "stream",
     "text": [
      "<class 'pandas.core.frame.DataFrame'>\n",
      "DatetimeIndex: 2551 entries, 2008-01-02 to 2018-10-31\n",
      "Data columns (total 11 columns):\n",
      "open          2551 non-null float64\n",
      "high          2551 non-null float64\n",
      "low           2551 non-null float64\n",
      "close         2551 non-null float64\n",
      "pre_close     2551 non-null float64\n",
      "change        2551 non-null float64\n",
      "pct_change    2551 non-null float64\n",
      "vol           2551 non-null float64\n",
      "amount        2551 non-null float64\n",
      "profit        2546 non-null float64\n",
      "label         2551 non-null int64\n",
      "dtypes: float64(10), int64(1)\n",
      "memory usage: 239.2 KB\n"
     ]
    }
   ],
   "source": [
    "stockfile.info()"
   ]
  },
  {
   "cell_type": "markdown",
   "metadata": {},
   "source": [
    "## 一、特征属性分析\n",
    "查看特征变量之间的关系"
   ]
  },
  {
   "cell_type": "code",
   "execution_count": 10,
   "metadata": {
    "collapsed": false
   },
   "outputs": [
    {
     "data": {
      "text/plain": [
       "high        open      0.998200\n",
       "low         open      0.998651\n",
       "            high      0.997505\n",
       "close       open      0.997121\n",
       "            high      0.998778\n",
       "            low       0.998336\n",
       "pct_change  change    0.932152\n",
       "vol         open      0.594773\n",
       "            high      0.620646\n",
       "            low       0.585415\n",
       "            close     0.608256\n",
       "amount      open      0.557333\n",
       "            high      0.585513\n",
       "            low       0.544733\n",
       "            close     0.570341\n",
       "            vol       0.951830\n",
       "label       profit    0.715584\n",
       "dtype: float64"
      ]
     },
     "execution_count": 10,
     "metadata": {},
     "output_type": "execute_result"
    }
   ],
   "source": [
    "# 查看所有特征属性之间的相关性\n",
    "corr = stockfile.corr()\n",
    "corr.loc[:,:] = np.tril(corr, k=-1)\n",
    "corr = corr.stack()\n",
    "corr = corr[(corr > 0.5) | (corr < -0.5)]\n",
    "corr"
   ]
  },
  {
   "cell_type": "code",
   "execution_count": 11,
   "metadata": {
    "collapsed": false
   },
   "outputs": [
    {
     "data": {
      "text/plain": [
       "<matplotlib.collections.PathCollection at 0x237bf6cff28>"
      ]
     },
     "execution_count": 11,
     "metadata": {},
     "output_type": "execute_result"
    },
    {
     "data": {
      "image/png": "[encoded data removed]",
      "text/plain": [
       "<matplotlib.figure.Figure at 0x237be3cf748>"
      ]
     },
     "metadata": {},
     "output_type": "display_data"
    }
   ],
   "source": [
    "# 查看low和high的关联关系\n",
    "plt.scatter(stockfile['low'], stockfile['high'])"
   ]
  },
  {
   "cell_type": "code",
   "execution_count": 12,
   "metadata": {
    "collapsed": false
   },
   "outputs": [
    {
     "data": {
      "text/plain": [
       "<matplotlib.collections.PathCollection at 0x237bf7b41d0>"
      ]
     },
     "execution_count": 12,
     "metadata": {},
     "output_type": "execute_result"
    },
    {
     "data": {
      "image/png": "[encoded data removed]",
      "text/plain": [
       "<matplotlib.figure.Figure at 0x237bf703320>"
      ]
     },
     "metadata": {},
     "output_type": "display_data"
    }
   ],
   "source": [
    "# 查看change和pct_change的关系\n",
    "plt.scatter(stockfile['change'], stockfile['pct_change'])"
   ]
  },
  {
   "cell_type": "code",
   "execution_count": 13,
   "metadata": {
    "collapsed": false
   },
   "outputs": [
    {
     "data": {
      "text/plain": [
       "<matplotlib.collections.PathCollection at 0x237bf859358>"
      ]
     },
     "execution_count": 13,
     "metadata": {},
     "output_type": "execute_result"
    },
    {
     "data": {
      "image/png": "[encoded data removed]",
      "text/plain": [
       "<matplotlib.figure.Figure at 0x237bf7e7d68>"
      ]
     },
     "metadata": {},
     "output_type": "display_data"
    }
   ],
   "source": [
    "# 查看vol和amount的关联关系\n",
    "plt.scatter(stockfile['vol'], stockfile['amount'])"
   ]
  },
  {
   "cell_type": "code",
   "execution_count": 14,
   "metadata": {
    "collapsed": false
   },
   "outputs": [
    {
     "data": {
      "text/plain": [
       "<matplotlib.collections.PathCollection at 0x237bf8e97b8>"
      ]
     },
     "execution_count": 14,
     "metadata": {},
     "output_type": "execute_result"
    },
    {
     "data": {
      "image/png": "[encoded data removed]",
      "text/plain": [
       "<matplotlib.figure.Figure at 0x237bf8897f0>"
      ]
     },
     "metadata": {},
     "output_type": "display_data"
    }
   ],
   "source": [
    "# 查看open和close的关系\n",
    "plt.scatter(stockfile['open'], stockfile['close'])"
   ]
  },
  {
   "cell_type": "code",
   "execution_count": 15,
   "metadata": {
    "collapsed": false
   },
   "outputs": [
    {
     "data": {
      "text/plain": [
       "<matplotlib.collections.PathCollection at 0x237bf978fd0>"
      ]
     },
     "execution_count": 15,
     "metadata": {},
     "output_type": "execute_result"
    },
    {
     "data": {
      "image/png": "[encoded data removed]",
      "text/plain": [
       "<matplotlib.figure.Figure at 0x237bf90e128>"
      ]
     },
     "metadata": {},
     "output_type": "display_data"
    }
   ],
   "source": [
    "# 查看一下交易价格以及结果之间的关系\n",
    "plt.scatter(stockfile['close'], stockfile['profit'])"
   ]
  },
  {
   "cell_type": "code",
   "execution_count": 16,
   "metadata": {
    "collapsed": false
   },
   "outputs": [
    {
     "data": {
      "text/plain": [
       "<matplotlib.collections.PathCollection at 0x237bfa6df60>"
      ]
     },
     "execution_count": 16,
     "metadata": {},
     "output_type": "execute_result"
    },
    {
     "data": {
      "image/png": "[encoded data removed]",
      "text/plain": [
       "<matplotlib.figure.Figure at 0x237bf9a1828>"
      ]
     },
     "metadata": {},
     "output_type": "display_data"
    }
   ],
   "source": [
    "# 查看一下结果以及交易价格之间的关系\n",
    "plt.scatter(stockfile['profit'], stockfile['close'])"
   ]
  },
  {
   "cell_type": "code",
   "execution_count": 17,
   "metadata": {
    "collapsed": false
   },
   "outputs": [
    {
     "data": {
      "text/plain": [
       "<matplotlib.collections.PathCollection at 0x237bfb002e8>"
      ]
     },
     "execution_count": 17,
     "metadata": {},
     "output_type": "execute_result"
    },
    {
     "data": {
      "image/png": "[encoded data removed]",
      "text/plain": [
       "<matplotlib.figure.Figure at 0x237bfa35390>"
      ]
     },
     "metadata": {},
     "output_type": "display_data"
    }
   ],
   "source": [
    "# 查看一下涨跌幅以及结果之间的关系\n",
    "plt.scatter(stockfile['pct_change'], stockfile['profit'])"
   ]
  },
  {
   "cell_type": "code",
   "execution_count": 18,
   "metadata": {
    "collapsed": false,
    "scrolled": false
   },
   "outputs": [
    {
     "name": "stdout",
     "output_type": "stream",
     "text": [
      "       pct_change      open\n",
      "label                      \n",
      "0        0.066832  7.610194\n",
      "1       -0.017090  7.245057\n",
      "       pct_change      open\n",
      "label                      \n",
      "0        2.385723  2.327652\n",
      "1        2.690906  2.353765\n"
     ]
    }
   ],
   "source": [
    "# 查看label和open、pct_change之间的关系\n",
    "print(stockfile.groupby('label').agg({'pct_change':'mean', 'open':'mean'}))\n",
    "print(stockfile.groupby('label').agg({'pct_change':'std', 'open':'std'}))"
   ]
  },
  {
   "cell_type": "markdown",
   "metadata": {},
   "source": [
    "### 总结：\n",
    "最终发现基础的属性对于最终模型的预测结果都不是特别好\n",
    "- 属性：open、high、low、close、pre_close之间的关联关系比较大\n",
    "- 属性：change、pct_change两个属性直接的关联关系比较大\n",
    "- 属性：vol、amount两个属性之间的关联关系比较大"
   ]
  },
  {
   "cell_type": "markdown",
   "metadata": {},
   "source": [
    "初始模型构建"
   ]
  },
  {
   "cell_type": "markdown",
   "metadata": {},
   "source": [
    "- 获取训练用数据和测试用数据"
   ]
  },
  {
   "cell_type": "code",
   "execution_count": 19,
   "metadata": {
    "collapsed": false
   },
   "outputs": [
    {
     "name": "stdout",
     "output_type": "stream",
     "text": [
      "<class 'pandas.core.frame.DataFrame'>\n",
      "DatetimeIndex: 2551 entries, 2008-01-02 to 2018-10-31\n",
      "Data columns (total 11 columns):\n",
      "open          2551 non-null float64\n",
      "high          2551 non-null float64\n",
      "low           2551 non-null float64\n",
      "close         2551 non-null float64\n",
      "pre_close     2551 non-null float64\n",
      "change        2551 non-null float64\n",
      "pct_change    2551 non-null float64\n",
      "vol           2551 non-null float64\n",
      "amount        2551 non-null float64\n",
      "profit        2546 non-null float64\n",
      "label         2551 non-null int64\n",
      "dtypes: float64(10), int64(1)\n",
      "memory usage: 239.2 KB\n",
      "<class 'pandas.core.frame.DataFrame'>\n",
      "DatetimeIndex: 2551 entries, 2008-01-02 to 2018-10-31\n",
      "Data columns (total 5 columns):\n",
      "open         2551 non-null float64\n",
      "pre_close    2551 non-null float64\n",
      "change       2551 non-null float64\n",
      "amount       2551 non-null float64\n",
      "label        2551 non-null int64\n",
      "dtypes: float64(4), int64(1)\n",
      "memory usage: 119.6 KB\n",
      "训练数据格式:(2040, 5), 测试数据格式:(511, 5)\n"
     ]
    }
   ],
   "source": [
    "stockfile.info()\n",
    "stock_data = stockfile.drop(['high', 'low', 'close', 'pct_change', \n",
    "                    'vol', 'profit'], axis=1)\n",
    "stock_data.info()\n",
    "\n",
    "split_idx = int(4.0 * stock_data.shape[0] / 5)\n",
    "stock_train_data, stock_test_data = stock_data.iloc[:split_idx,:], stock_data.iloc[split_idx:, :]\n",
    "print(\"训练数据格式:{}, 测试数据格式:{}\".format(stock_train_data.shape, stock_test_data.shape))\n",
    "\n",
    "# 获取收盘价\n",
    "buy_price = stockfile['close']\n",
    "train_data_buy_price = buy_price[:split_idx]\n",
    "test_data_buy_price = buy_price[split_idx:]"
   ]
  },
  {
   "cell_type": "markdown",
   "metadata": {},
   "source": [
    "* 数据分割"
   ]
  },
  {
   "cell_type": "code",
   "execution_count": 20,
   "metadata": {
    "collapsed": false
   },
   "outputs": [
    {
     "name": "stdout",
     "output_type": "stream",
     "text": [
      "训练数据格式:(2040, 4), 测试数据格式:(511, 4)\n"
     ]
    }
   ],
   "source": [
    "X = stock_data.drop('label', axis=1)\n",
    "Y = stock_data['label']\n",
    "x_train = stock_train_data.drop('label', axis=1)\n",
    "x_test = stock_test_data.drop('label', axis=1)\n",
    "y_train = stock_train_data['label']\n",
    "y_test = stock_test_data['label']\n",
    "print(\"训练数据格式:{}, 测试数据格式:{}\".format(x_train.shape, x_test.shape))"
   ]
  },
  {
   "cell_type": "markdown",
   "metadata": {},
   "source": [
    "* 模型训练"
   ]
  },
  {
   "cell_type": "code",
   "execution_count": 21,
   "metadata": {
    "collapsed": true
   },
   "outputs": [],
   "source": [
    "# scaler = preprocessing.StandardScaler(with_mean=True, with_std=True)\n",
    "scaler = preprocessing.MinMaxScaler(feature_range=(-10,10))\n",
    "x_train = scaler.fit_transform(x_train, y_train)\n",
    "x_test = scaler.transform(x_test)\n",
    "X = scaler.transform(X)"
   ]
  },
  {
   "cell_type": "code",
   "execution_count": 22,
   "metadata": {
    "collapsed": false
   },
   "outputs": [
    {
     "data": {
      "text/plain": [
       "SVC(C=1.0, cache_size=200, class_weight=None, coef0=0.0,\n",
       "  decision_function_shape='ovr', degree=3, gamma='auto_deprecated',\n",
       "  kernel='rbf', max_iter=-1, probability=True, random_state=None,\n",
       "  shrinking=True, tol=0.001, verbose=False)"
      ]
     },
     "execution_count": 22,
     "metadata": {},
     "output_type": "execute_result"
    }
   ],
   "source": [
    "algo = svm.SVC(probability=True)\n",
    "algo.fit(x_train, y_train)"
   ]
  },
  {
   "cell_type": "markdown",
   "metadata": {},
   "source": [
    "* 模型效果评估"
   ]
  },
  {
   "cell_type": "code",
   "execution_count": 23,
   "metadata": {
    "collapsed": false
   },
   "outputs": [
    {
     "name": "stdout",
     "output_type": "stream",
     "text": [
      "训练数据准确率:0.7102941176470589\n",
      "测试数据准确率:0.6536203522504892\n",
      "训练数据的效果混淆矩阵:\n",
      "[[1192   69]\n",
      " [ 522  257]]\n",
      "训练数据的效果report:\n",
      "              precision    recall  f1-score   support\n",
      "\n",
      "           0       0.70      0.95      0.80      1261\n",
      "           1       0.79      0.33      0.47       779\n",
      "\n",
      "   micro avg       0.71      0.71      0.71      2040\n",
      "   macro avg       0.74      0.64      0.63      2040\n",
      "weighted avg       0.73      0.71      0.67      2040\n",
      "\n",
      "测试数据的效果混淆矩阵:\n",
      "[[333   0]\n",
      " [177   1]]\n",
      "测试数据的效果report:\n",
      "              precision    recall  f1-score   support\n",
      "\n",
      "           0       0.65      1.00      0.79       333\n",
      "           1       1.00      0.01      0.01       178\n",
      "\n",
      "   micro avg       0.65      0.65      0.65       511\n",
      "   macro avg       0.83      0.50      0.40       511\n",
      "weighted avg       0.77      0.65      0.52       511\n",
      "\n",
      "所有数据准确率:0.6989415915327323\n",
      "所有数据的效果混淆矩阵:\n",
      "[[1525   69]\n",
      " [ 699  258]]\n",
      "所有数据的效果report:\n",
      "              precision    recall  f1-score   support\n",
      "\n",
      "           0       0.69      0.96      0.80      1594\n",
      "           1       0.79      0.27      0.40       957\n",
      "\n",
      "   micro avg       0.70      0.70      0.70      2551\n",
      "   macro avg       0.74      0.61      0.60      2551\n",
      "weighted avg       0.72      0.70      0.65      2551\n",
      "\n"
     ]
    }
   ],
   "source": [
    "y_pred_test = algo.predict(x_test)\n",
    "y_pred_train = algo.predict(x_train)\n",
    "y_pred_all = algo.predict(X)\n",
    "print(\"训练数据准确率:{}\".format(metrics.accuracy_score(y_train, y_pred_train)))\n",
    "print(\"测试数据准确率:{}\".format(metrics.accuracy_score(y_test, y_pred_test)))\n",
    "print(\"训练数据的效果混淆矩阵:\\n{}\".format(metrics.confusion_matrix(y_train, y_pred_train)))\n",
    "print(\"训练数据的效果report:\\n{}\".format(metrics.classification_report(y_train, y_pred_train)))\n",
    "print(\"测试数据的效果混淆矩阵:\\n{}\".format(metrics.confusion_matrix(y_test, y_pred_test)))\n",
    "print(\"测试数据的效果report:\\n{}\".format(metrics.classification_report(y_test, y_pred_test)))\n",
    "print(\"所有数据准确率:{}\".format(metrics.accuracy_score(Y, y_pred_all)))\n",
    "print(\"所有数据的效果混淆矩阵:\\n{}\".format(metrics.confusion_matrix(Y, y_pred_all)))\n",
    "print(\"所有数据的效果report:\\n{}\".format(metrics.classification_report(Y, y_pred_all)))\n"
   ]
  },
  {
   "cell_type": "markdown",
   "metadata": {
    "collapsed": true
   },
   "source": [
    "#### 计算在当前模型情况下的，最终效果"
   ]
  },
  {
   "cell_type": "code",
   "execution_count": 24,
   "metadata": {
    "collapsed": true
   },
   "outputs": [],
   "source": [
    "def calc_rate_of_return_by_state(buy_price, buy_infos, initial_capital=100000.0):\n",
    "    \"\"\"\n",
    "    buy_infos: 购买信息，True表示购买，False表示卖出\n",
    "    :param buy_price: 价格信息\n",
    "    :param buy_infos:\n",
    "    :param initial_capital: 初始资本\n",
    "    :return:\n",
    "    \"\"\"\n",
    "    # 资本\n",
    "    capital = initial_capital\n",
    "    # 持有的股本\n",
    "    hold_equity = 0.0\n",
    "\n",
    "    flag = False\n",
    "    for idx, buy_flag in enumerate(buy_infos):\n",
    "        if buy_flag:\n",
    "            # 当需要进行购买操作的时候，两种情况：如果之前就是购买，那就继续持有；否则全部买入\n",
    "            if not flag:\n",
    "                # 买入\n",
    "                hold_equity = 1.0 * capital / buy_price[idx]\n",
    "                flag = True\n",
    "                capital = 0.0\n",
    "        else:\n",
    "            # 当需要进行卖出操作的时候，两种情况：如果之前就是卖出, 那么继续不买入；否则卖出\n",
    "            if flag:\n",
    "                # 卖出\n",
    "                flag = False\n",
    "                capital = hold_equity * buy_price[idx]\n",
    "                hold_equity = 0.0\n",
    "\n",
    "    # 计算最终的金额以及收益率\n",
    "    total_capital = capital + hold_equity * buy_price[-1]\n",
    "    return total_capital, (total_capital - initial_capital) / initial_capital\n"
   ]
  },
  {
   "cell_type": "code",
   "execution_count": 25,
   "metadata": {
    "collapsed": false
   },
   "outputs": [
    {
     "name": "stdout",
     "output_type": "stream",
     "text": [
      "所有数据上\n",
      "原始随机情况下:\n",
      "(124615.43419521823, 0.2461543419521823)\n",
      "模型预测情况下:\n",
      "(3106357.339846481, 30.06357339846481)\n"
     ]
    }
   ],
   "source": [
    "print(\"所有数据上\")\n",
    "print(\"原始随机情况下:\")\n",
    "buy_infos = np.ones_like(buy_price, dtype=np.bool)\n",
    "buy_infos[::5] = False\n",
    "print(calc_rate_of_return_by_state(buy_price, buy_infos))\n",
    "print(\"模型预测情况下:\")\n",
    "buy_infos = y_pred_all.astype(np.bool)\n",
    "print(calc_rate_of_return_by_state(buy_price, buy_infos))"
   ]
  },
  {
   "cell_type": "code",
   "execution_count": 26,
   "metadata": {
    "collapsed": false
   },
   "outputs": [
    {
     "name": "stdout",
     "output_type": "stream",
     "text": [
      "训练数据上\n",
      "原始随机情况下:\n",
      "(97989.39091047984, -0.02010609089520163)\n",
      "模型预测情况下:\n",
      "(3094165.984509564, 29.94165984509564)\n"
     ]
    }
   ],
   "source": [
    "print(\"训练数据上\")\n",
    "print(\"原始随机情况下:\")\n",
    "buy_infos = np.ones_like(train_data_buy_price, dtype=np.bool)\n",
    "buy_infos[::5] = False\n",
    "print(calc_rate_of_return_by_state(train_data_buy_price, buy_infos))\n",
    "print(\"模型预测情况下:\")\n",
    "buy_infos = y_pred_train.astype(np.bool)\n",
    "print(calc_rate_of_return_by_state(train_data_buy_price, buy_infos))"
   ]
  },
  {
   "cell_type": "code",
   "execution_count": 27,
   "metadata": {
    "collapsed": false
   },
   "outputs": [
    {
     "name": "stdout",
     "output_type": "stream",
     "text": [
      "测试数据上\n",
      "原始随机情况下:\n",
      "(127315.7470851489, 0.27315747085148906)\n",
      "模型预测情况下:\n",
      "(100394.01103230892, 0.003940110323089175)\n"
     ]
    }
   ],
   "source": [
    "print(\"测试数据上\")\n",
    "print(\"原始随机情况下:\")\n",
    "buy_infos = np.ones_like(test_data_buy_price, dtype=np.bool)\n",
    "buy_infos[::5] = False\n",
    "print(calc_rate_of_return_by_state(test_data_buy_price, buy_infos))\n",
    "print(\"模型预测情况下:\")\n",
    "buy_infos = y_pred_test.astype(np.bool)\n",
    "print(calc_rate_of_return_by_state(test_data_buy_price, buy_infos))"
   ]
  },
  {
   "cell_type": "code",
   "execution_count": null,
   "metadata": {
    "collapsed": true
   },
   "outputs": [],
   "source": []
  }
 ],
 "metadata": {
  "kernelspec": {
   "display_name": "Python 3",
   "language": "python",
   "name": "python3"
  },
  "language_info": {
   "codemirror_mode": {
    "name": "ipython",
    "version": 3
   },
   "file_extension": ".py",
   "mimetype": "text/x-python",
   "name": "python",
   "nbconvert_exporter": "python",
   "pygments_lexer": "ipython3",
   "version": "3.6.6"
  }
 },
 "nbformat": 4,
 "nbformat_minor": 2
}
