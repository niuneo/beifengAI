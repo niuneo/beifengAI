{
 "cells": [
  {
   "cell_type": "markdown",
   "metadata": {},
   "source": [
    "## 实现方式\n",
    "- 使用原始数据来构建模型，对数据不做任何处理"
   ]
  },
  {
   "cell_type": "code",
   "execution_count": 1,
   "metadata": {
    "collapsed": true
   },
   "outputs": [],
   "source": [
    "import os\n",
    "import warnings\n",
    "import numpy as np\n",
    "import pandas as pd\n",
    "import matplotlib.pylab as plt\n",
    "from sklearn import svm\n",
    "from sklearn import metrics"
   ]
  },
  {
   "cell_type": "code",
   "execution_count": 2,
   "metadata": {
    "collapsed": true
   },
   "outputs": [],
   "source": [
    "np.random.seed(28)"
   ]
  },
  {
   "cell_type": "code",
   "execution_count": 3,
   "metadata": {
    "collapsed": true
   },
   "outputs": [],
   "source": [
    "warnings.filterwarnings('ignore')"
   ]
  },
  {
   "cell_type": "code",
   "execution_count": 4,
   "metadata": {
    "collapsed": true
   },
   "outputs": [],
   "source": [
    "%matplotlib inline"
   ]
  },
  {
   "cell_type": "code",
   "execution_count": 5,
   "metadata": {
    "collapsed": true
   },
   "outputs": [],
   "source": [
    "plt.rcParams['font.sans-serif'] = 'SimHei'\n",
    "plt.rcParams['axes.unicode_minus'] = False"
   ]
  },
  {
   "cell_type": "code",
   "execution_count": 6,
   "metadata": {
    "collapsed": true
   },
   "outputs": [],
   "source": [
    "stockcode = '000001.SZ'\n",
    "stockname = '平安银行'\n",
    "file_path = './data/000001.SZ_day_qfq.csv'\n",
    "stockfile = pd.read_csv(file_path, index_col='trade_date', parse_dates=True)"
   ]
  },
  {
   "cell_type": "code",
   "execution_count": 7,
   "metadata": {
    "collapsed": false
   },
   "outputs": [
    {
     "data": {
      "text/html": [
       "<div>\n",
       "<style scoped>\n",
       "    .dataframe tbody tr th:only-of-type {\n",
       "        vertical-align: middle;\n",
       "    }\n",
       "\n",
       "    .dataframe tbody tr th {\n",
       "        vertical-align: top;\n",
       "    }\n",
       "\n",
       "    .dataframe thead th {\n",
       "        text-align: right;\n",
       "    }\n",
       "</style>\n",
       "<table border=\"1\" class=\"dataframe\">\n",
       "  <thead>\n",
       "    <tr style=\"text-align: right;\">\n",
       "      <th></th>\n",
       "      <th>open</th>\n",
       "      <th>high</th>\n",
       "      <th>low</th>\n",
       "      <th>close</th>\n",
       "      <th>pre_close</th>\n",
       "      <th>change</th>\n",
       "      <th>pct_change</th>\n",
       "      <th>vol</th>\n",
       "      <th>amount</th>\n",
       "    </tr>\n",
       "    <tr>\n",
       "      <th>trade_date</th>\n",
       "      <th></th>\n",
       "      <th></th>\n",
       "      <th></th>\n",
       "      <th></th>\n",
       "      <th></th>\n",
       "      <th></th>\n",
       "      <th></th>\n",
       "      <th></th>\n",
       "      <th></th>\n",
       "    </tr>\n",
       "  </thead>\n",
       "  <tbody>\n",
       "    <tr>\n",
       "      <th>2008-01-02</th>\n",
       "      <td>9.81</td>\n",
       "      <td>9.87</td>\n",
       "      <td>9.59</td>\n",
       "      <td>9.68</td>\n",
       "      <td>38.60</td>\n",
       "      <td>-0.62</td>\n",
       "      <td>-1.61</td>\n",
       "      <td>200524.73</td>\n",
       "      <td>7.634657e+05</td>\n",
       "    </tr>\n",
       "    <tr>\n",
       "      <th>2008-01-03</th>\n",
       "      <td>9.68</td>\n",
       "      <td>9.70</td>\n",
       "      <td>9.30</td>\n",
       "      <td>9.52</td>\n",
       "      <td>37.98</td>\n",
       "      <td>-0.63</td>\n",
       "      <td>-1.66</td>\n",
       "      <td>275648.31</td>\n",
       "      <td>1.023423e+06</td>\n",
       "    </tr>\n",
       "    <tr>\n",
       "      <th>2008-01-04</th>\n",
       "      <td>9.53</td>\n",
       "      <td>9.86</td>\n",
       "      <td>9.52</td>\n",
       "      <td>9.78</td>\n",
       "      <td>37.35</td>\n",
       "      <td>1.02</td>\n",
       "      <td>2.73</td>\n",
       "      <td>198704.38</td>\n",
       "      <td>7.621611e+05</td>\n",
       "    </tr>\n",
       "  </tbody>\n",
       "</table>\n",
       "</div>"
      ],
      "text/plain": [
       "            open  high   low  close  pre_close  change  pct_change        vol  \\\n",
       "trade_date                                                                      \n",
       "2008-01-02  9.81  9.87  9.59   9.68      38.60   -0.62       -1.61  200524.73   \n",
       "2008-01-03  9.68  9.70  9.30   9.52      37.98   -0.63       -1.66  275648.31   \n",
       "2008-01-04  9.53  9.86  9.52   9.78      37.35    1.02        2.73  198704.38   \n",
       "\n",
       "                  amount  \n",
       "trade_date                \n",
       "2008-01-02  7.634657e+05  \n",
       "2008-01-03  1.023423e+06  \n",
       "2008-01-04  7.621611e+05  "
      ]
     },
     "execution_count": 7,
     "metadata": {},
     "output_type": "execute_result"
    }
   ],
   "source": [
    "stockfile.head(3)"
   ]
  },
  {
   "cell_type": "code",
   "execution_count": 8,
   "metadata": {
    "collapsed": false
   },
   "outputs": [
    {
     "name": "stdout",
     "output_type": "stream",
     "text": [
      "<class 'pandas.core.frame.DataFrame'>\n",
      "DatetimeIndex: 2551 entries, 2008-01-02 to 2018-10-31\n",
      "Data columns (total 9 columns):\n",
      "open          2551 non-null float64\n",
      "high          2551 non-null float64\n",
      "low           2551 non-null float64\n",
      "close         2551 non-null float64\n",
      "pre_close     2551 non-null float64\n",
      "change        2551 non-null float64\n",
      "pct_change    2551 non-null float64\n",
      "vol           2551 non-null float64\n",
      "amount        2551 non-null float64\n",
      "dtypes: float64(9)\n",
      "memory usage: 199.3 KB\n"
     ]
    }
   ],
   "source": [
    "stockfile.info()"
   ]
  },
  {
   "cell_type": "code",
   "execution_count": 9,
   "metadata": {
    "collapsed": false
   },
   "outputs": [
    {
     "data": {
      "text/plain": [
       "DatetimeIndex(['2008-01-02', '2008-01-03', '2008-01-04', '2008-01-07',\n",
       "               '2008-01-08', '2008-01-09', '2008-01-10', '2008-01-11',\n",
       "               '2008-01-14', '2008-01-15',\n",
       "               ...\n",
       "               '2018-10-18', '2018-10-19', '2018-10-22', '2018-10-23',\n",
       "               '2018-10-24', '2018-10-25', '2018-10-26', '2018-10-29',\n",
       "               '2018-10-30', '2018-10-31'],\n",
       "              dtype='datetime64[ns]', name='trade_date', length=2551, freq=None)"
      ]
     },
     "execution_count": 9,
     "metadata": {},
     "output_type": "execute_result"
    }
   ],
   "source": [
    "# 查看索引（2008-01-02~2018-10-31, 间断的时间）\n",
    "stockfile.index"
   ]
  },
  {
   "cell_type": "markdown",
   "metadata": {},
   "source": [
    "在该数据集使用trade_date作为行索引，数据中共有9列，对应的列名以及含义如下：\n",
    "- open：开盘价\n",
    "- high：最高价\n",
    "- low：最低价\n",
    "- close：收盘价\n",
    "- pre_close：昨日收盘价\n",
    "- change：涨跌值\n",
    "- pct_change：涨跌幅\n",
    "- vol：成交量（手）\n",
    "- amount：成交量（千元）"
   ]
  },
  {
   "cell_type": "markdown",
   "metadata": {},
   "source": [
    "# 可视化K线"
   ]
  },
  {
   "cell_type": "code",
   "execution_count": 10,
   "metadata": {
    "collapsed": true
   },
   "outputs": [],
   "source": [
    "def candle_stick(axes, xindex, data, colorup='red', colordown='green'):\n",
    "    \"\"\"\n",
    "        绘制K线\n",
    "        axes: 绘制图像的pylot对象\n",
    "        xindex: 索引\n",
    "        data: 数据DataFrame，要求具有close、open、high、low这四个属性\n",
    "    \"\"\"\n",
    "    up = data['close'] >= data['open']\n",
    "    down = data['close'] < data['open']\n",
    "    \n",
    "    if any(up):\n",
    "        axes.vlines(xindex[up], data['open'][up], data['close'][up], color=colorup, linewidth=5.5)\n",
    "        axes.vlines(xindex[up], data['low'][up], data['high'][up], color=colorup, linewidth=1)\n",
    "    \n",
    "    if any(down):\n",
    "        axes.vlines(xindex[down], data['open'][down], data['close'][down], color=colordown, linewidth=5.5)\n",
    "        axes.vlines(xindex[down], data['low'][down], data['high'][down], color=colordown, linewidth=1)"
   ]
  },
  {
   "cell_type": "code",
   "execution_count": 11,
   "metadata": {
    "collapsed": false
   },
   "outputs": [
    {
     "data": {
      "image/png": "[encoded data removed]",
      "text/plain": [
       "<matplotlib.figure.Figure at 0x14fe74cb128>"
      ]
     },
     "metadata": {},
     "output_type": "display_data"
    }
   ],
   "source": [
    "df = stockfile['2018-01-01':]\n",
    "\n",
    "plt.figure(figsize=(10,8))\n",
    "axes = plt.gca()\n",
    "xindex = np.arange(len(df))\n",
    "# 绘制K线图\n",
    "candle_stick(axes, xindex, df)\n",
    "# 给定标签\n",
    "dates = np.array(df.index.to_pydatetime())\n",
    "sdates = [date.strftime('%y-%m-%d') for date in dates]\n",
    "step = len(xindex) // 8\n",
    "axes.set_xticks(xindex[::step])\n",
    "axes.set_xticklabels(sdates[::step], rotation=30)\n",
    "# 画网格\n",
    "axes.grid(True, ls='--', alpha=0.8, color='k')\n",
    "plt.show()"
   ]
  },
  {
   "cell_type": "markdown",
   "metadata": {},
   "source": [
    "# 标注数据\n",
    "- 假定以收盘价作为买入价，然后持股5日，也以收盘价作为卖出价；那么可以计算出相应的收益"
   ]
  },
  {
   "cell_type": "code",
   "execution_count": 12,
   "metadata": {
    "collapsed": true
   },
   "outputs": [],
   "source": [
    "def calc_profit(data, position_period=5):\n",
    "    \"\"\"\n",
    "    计算持仓收益\n",
    "    \"\"\"\n",
    "    price = data['close']\n",
    "    data['profit'] = (data['close'].shift(-position_period) - price) / price * 100.0"
   ]
  },
  {
   "cell_type": "code",
   "execution_count": 13,
   "metadata": {
    "collapsed": true
   },
   "outputs": [],
   "source": [
    "# 计算收益\n",
    "calc_profit(stockfile)"
   ]
  },
  {
   "cell_type": "code",
   "execution_count": 14,
   "metadata": {
    "collapsed": false
   },
   "outputs": [
    {
     "name": "stdout",
     "output_type": "stream",
     "text": [
      "第一天购买，持有十年后卖出，总收益为:12.70661%\n"
     ]
    }
   ],
   "source": [
    "profit = (stockfile['close'][-1] - stockfile['close'][0]) / stockfile['close'][0]\n",
    "print(\"第一天购买，持有十年后卖出，总收益为:%.5f%%\" % (profit * 100))"
   ]
  },
  {
   "cell_type": "code",
   "execution_count": 15,
   "metadata": {
    "collapsed": false
   },
   "outputs": [
    {
     "name": "stdout",
     "output_type": "stream",
     "text": [
      "count    2546.000000\n",
      "mean        0.181750\n",
      "std         5.683024\n",
      "min       -25.000000\n",
      "25%        -2.768808\n",
      "50%        -0.100051\n",
      "75%         2.791461\n",
      "max        26.391555\n",
      "Name: profit, dtype: float64\n",
      "总收益:95.50768%\n"
     ]
    },
    {
     "data": {
      "image/png": "[encoded data removed]",
      "text/plain": [
       "<matplotlib.figure.Figure at 0x14fe5e68b00>"
      ]
     },
     "metadata": {},
     "output_type": "display_data"
    }
   ],
   "source": [
    "# 收益可视化\n",
    "stockfile['profit'].plot.hist(15)\n",
    "# 收益信息数据查看\n",
    "print(stockfile['profit'].describe())\n",
    "# 总收益(95%差不多，十年的时间段中, 平均来看)\n",
    "profit = (((1 + 0.00181750 - 0.0005) ** (2546 / 5)) - 1) * 100\n",
    "print(\"总收益:%.5f%%\" % profit)"
   ]
  },
  {
   "cell_type": "markdown",
   "metadata": {},
   "source": [
    "可以看出来，在标注数据的时候，我们可以根据收益情况来进行数据的分类(这里认为是一个二分类，可以做多分类)：\n",
    "- 收益率大于1%的交易，认为交易是成功的。\n",
    "- 收益率小于1%的交易，认为交易是失败的。"
   ]
  },
  {
   "cell_type": "code",
   "execution_count": 16,
   "metadata": {
    "collapsed": true
   },
   "outputs": [],
   "source": [
    "def calc_profit(data, position_period=5):\n",
    "    \"\"\"\n",
    "    计算持仓收益，并给定标签\n",
    "    \"\"\"\n",
    "    price = data['close']\n",
    "    data['profit'] = (data['close'].shift(-position_period) - price) / price * 100.0\n",
    "    data['label'] = 0\n",
    "    data.loc[data['profit'] > 1.0, 'label'] = 1"
   ]
  },
  {
   "cell_type": "code",
   "execution_count": 17,
   "metadata": {
    "collapsed": true
   },
   "outputs": [],
   "source": [
    "# 计算收益并给定标签\n",
    "calc_profit(stockfile)"
   ]
  },
  {
   "cell_type": "code",
   "execution_count": 18,
   "metadata": {
    "collapsed": false
   },
   "outputs": [
    {
     "data": {
      "image/png": "[encoded data removed]",
      "text/plain": [
       "<matplotlib.figure.Figure at 0x14fe72bc978>"
      ]
     },
     "metadata": {},
     "output_type": "display_data"
    }
   ],
   "source": [
    "# 可视化（可以发现2/3的失败，1/3成功）\n",
    "freqs = stockfile['label'].value_counts()\n",
    "plt.figure(figsize=(8,6))\n",
    "plt.pie(freqs, labels=freqs.index, autopct='%.1f%%')\n",
    "plt.title('股票交易成功失败比例')\n",
    "plt.show()"
   ]
  },
  {
   "cell_type": "markdown",
   "metadata": {},
   "source": [
    "# 模型构建\n",
    "- 如果可以发现所有成功的交易位置，那么最终的收益会由多少呢？\n",
    "- 这里使用SVM算法来预测"
   ]
  },
  {
   "cell_type": "code",
   "execution_count": 19,
   "metadata": {
    "collapsed": false
   },
   "outputs": [
    {
     "name": "stdout",
     "output_type": "stream",
     "text": [
      "count    957.000000\n",
      "mean       5.420901\n",
      "std        4.455944\n",
      "min        1.006192\n",
      "25%        2.283105\n",
      "50%        3.914989\n",
      "75%        7.134894\n",
      "max       26.391555\n",
      "Name: profit, dtype: float64\n",
      "总收益:2185911.68670%\n"
     ]
    }
   ],
   "source": [
    "# 如果百分百预测正确，那么最终收益是多少呢？\n",
    "df = stockfile.loc[stockfile['label'] == 1.0, 'profit']\n",
    "print(df.describe())\n",
    "# 总收益(95%差不多，十年的时间段中, 平均来看)\n",
    "profit = (((1 + 0.05420901 - 0.0005) ** (df.shape[0] // 5)) - 1) * 100\n",
    "print(\"总收益:%.5f%%\" % profit)"
   ]
  },
  {
   "cell_type": "markdown",
   "metadata": {},
   "source": [
    "基于SVM的初始模型构建"
   ]
  },
  {
   "cell_type": "markdown",
   "metadata": {},
   "source": [
    "- 获取训练用数据和测试用数据"
   ]
  },
  {
   "cell_type": "code",
   "execution_count": 20,
   "metadata": {
    "collapsed": false
   },
   "outputs": [
    {
     "name": "stdout",
     "output_type": "stream",
     "text": [
      "<class 'pandas.core.frame.DataFrame'>\n",
      "DatetimeIndex: 2551 entries, 2008-01-02 to 2018-10-31\n",
      "Data columns (total 11 columns):\n",
      "open          2551 non-null float64\n",
      "high          2551 non-null float64\n",
      "low           2551 non-null float64\n",
      "close         2551 non-null float64\n",
      "pre_close     2551 non-null float64\n",
      "change        2551 non-null float64\n",
      "pct_change    2551 non-null float64\n",
      "vol           2551 non-null float64\n",
      "amount        2551 non-null float64\n",
      "profit        2546 non-null float64\n",
      "label         2551 non-null int64\n",
      "dtypes: float64(10), int64(1)\n",
      "memory usage: 319.2 KB\n",
      "<class 'pandas.core.frame.DataFrame'>\n",
      "DatetimeIndex: 2551 entries, 2008-01-02 to 2018-10-31\n",
      "Data columns (total 5 columns):\n",
      "open     2551 non-null float64\n",
      "high     2551 non-null float64\n",
      "low      2551 non-null float64\n",
      "close    2551 non-null float64\n",
      "label    2551 non-null int64\n",
      "dtypes: float64(4), int64(1)\n",
      "memory usage: 199.6 KB\n",
      "训练数据格式:(2040, 5), 测试数据格式:(511, 5)\n"
     ]
    }
   ],
   "source": [
    "stockfile.info()\n",
    "stock_data = stockfile.drop(['pre_close', 'change', 'pct_change', \n",
    "                    'vol', 'amount', 'profit'], axis=1)\n",
    "stock_data.info()\n",
    "\n",
    "split_idx = int(4.0 * stock_data.shape[0] / 5)\n",
    "stock_train_data, stock_test_data = stock_data.iloc[:split_idx,:], stock_data.iloc[split_idx:, :]\n",
    "print(\"训练数据格式:{}, 测试数据格式:{}\".format(stock_train_data.shape, stock_test_data.shape))\n",
    "\n",
    "# 获取收盘价\n",
    "buy_price = stockfile['close']\n",
    "train_data_buy_price = buy_price[:split_idx]\n",
    "test_data_buy_price = buy_price[split_idx:]"
   ]
  },
  {
   "cell_type": "markdown",
   "metadata": {},
   "source": [
    "* 拆分训练集和测试集"
   ]
  },
  {
   "cell_type": "code",
   "execution_count": 21,
   "metadata": {
    "collapsed": false
   },
   "outputs": [
    {
     "name": "stdout",
     "output_type": "stream",
     "text": [
      "训练数据格式:(2040, 4), 测试数据格式:(511, 4)\n"
     ]
    }
   ],
   "source": [
    "X = stock_data.drop('label', axis=1)\n",
    "Y = stock_data['label']\n",
    "x_train = stock_train_data.drop('label', axis=1)\n",
    "x_test = stock_test_data.drop('label', axis=1)\n",
    "y_train = stock_train_data['label']\n",
    "y_test = stock_test_data['label']\n",
    "print(\"训练数据格式:{}, 测试数据格式:{}\".format(x_train.shape, x_test.shape))"
   ]
  },
  {
   "cell_type": "markdown",
   "metadata": {},
   "source": [
    "- 模型训练"
   ]
  },
  {
   "cell_type": "code",
   "execution_count": 22,
   "metadata": {
    "collapsed": false
   },
   "outputs": [
    {
     "data": {
      "text/plain": [
       "SVC(C=1.0, cache_size=200, class_weight=None, coef0=0.0,\n",
       "  decision_function_shape='ovr', degree=3, gamma='auto_deprecated',\n",
       "  kernel='rbf', max_iter=-1, probability=True, random_state=None,\n",
       "  shrinking=True, tol=0.001, verbose=False)"
      ]
     },
     "execution_count": 22,
     "metadata": {},
     "output_type": "execute_result"
    }
   ],
   "source": [
    "algo = svm.SVC(probability=True)\n",
    "algo.fit(x_train, y_train)"
   ]
  },
  {
   "cell_type": "markdown",
   "metadata": {},
   "source": [
    "- 模型效果评估"
   ]
  },
  {
   "cell_type": "code",
   "execution_count": 23,
   "metadata": {
    "collapsed": false
   },
   "outputs": [
    {
     "name": "stdout",
     "output_type": "stream",
     "text": [
      "训练数据准确率:0.6254901960784314\n",
      "测试数据准确率:0.6516634050880626\n",
      "训练数据的效果混淆矩阵:\n",
      "[[1256    5]\n",
      " [ 759   20]]\n",
      "训练数据的效果report:\n",
      "              precision    recall  f1-score   support\n",
      "\n",
      "           0       0.62      1.00      0.77      1261\n",
      "           1       0.80      0.03      0.05       779\n",
      "\n",
      "   micro avg       0.63      0.63      0.63      2040\n",
      "   macro avg       0.71      0.51      0.41      2040\n",
      "weighted avg       0.69      0.63      0.49      2040\n",
      "\n",
      "测试数据的效果混淆矩阵:\n",
      "[[333   0]\n",
      " [178   0]]\n",
      "测试数据的效果report:\n",
      "              precision    recall  f1-score   support\n",
      "\n",
      "           0       0.65      1.00      0.79       333\n",
      "           1       0.00      0.00      0.00       178\n",
      "\n",
      "   micro avg       0.65      0.65      0.65       511\n",
      "   macro avg       0.33      0.50      0.39       511\n",
      "weighted avg       0.42      0.65      0.51       511\n",
      "\n",
      "所有数据准确率:0.630733045864367\n",
      "所有数据的效果混淆矩阵:\n",
      "[[1589    5]\n",
      " [ 937   20]]\n",
      "所有数据的效果report:\n",
      "              precision    recall  f1-score   support\n",
      "\n",
      "           0       0.63      1.00      0.77      1594\n",
      "           1       0.80      0.02      0.04       957\n",
      "\n",
      "   micro avg       0.63      0.63      0.63      2551\n",
      "   macro avg       0.71      0.51      0.41      2551\n",
      "weighted avg       0.69      0.63      0.50      2551\n",
      "\n"
     ]
    }
   ],
   "source": [
    "y_pred_test = algo.predict(x_test)\n",
    "y_pred_train = algo.predict(x_train)\n",
    "y_pred_all = algo.predict(X)\n",
    "print(\"训练数据准确率:{}\".format(metrics.accuracy_score(y_train, y_pred_train)))\n",
    "print(\"测试数据准确率:{}\".format(metrics.accuracy_score(y_test, y_pred_test)))\n",
    "print(\"训练数据的效果混淆矩阵:\\n{}\".format(metrics.confusion_matrix(y_train, y_pred_train)))\n",
    "print(\"训练数据的效果report:\\n{}\".format(metrics.classification_report(y_train, y_pred_train)))\n",
    "print(\"测试数据的效果混淆矩阵:\\n{}\".format(metrics.confusion_matrix(y_test, y_pred_test)))\n",
    "print(\"测试数据的效果report:\\n{}\".format(metrics.classification_report(y_test, y_pred_test)))\n",
    "print(\"所有数据准确率:{}\".format(metrics.accuracy_score(Y, y_pred_all)))\n",
    "print(\"所有数据的效果混淆矩阵:\\n{}\".format(metrics.confusion_matrix(Y, y_pred_all)))\n",
    "print(\"所有数据的效果report:\\n{}\".format(metrics.classification_report(Y, y_pred_all)))\n"
   ]
  },
  {
   "cell_type": "markdown",
   "metadata": {
    "collapsed": true
   },
   "source": [
    "#### 计算在当前模型情况下的，最终效果"
   ]
  },
  {
   "cell_type": "code",
   "execution_count": 24,
   "metadata": {
    "collapsed": true
   },
   "outputs": [],
   "source": [
    "def calc_rate_of_return_by_state(buy_price, buy_infos, initial_capital=100000.0):\n",
    "    \"\"\"\n",
    "    buy_infos: 购买信息，True表示购买，False表示卖出\n",
    "    :param buy_price: 价格信息\n",
    "    :param buy_infos:\n",
    "    :param initial_capital: 初始资本\n",
    "    :return:\n",
    "    \"\"\"\n",
    "    # 资本\n",
    "    capital = initial_capital\n",
    "    # 持有的股本\n",
    "    hold_equity = 0.0\n",
    "\n",
    "    flag = False\n",
    "    for idx, buy_flag in enumerate(buy_infos):\n",
    "        if buy_flag:\n",
    "            # 当需要进行购买操作的时候，两种情况：如果之前就是购买，那就继续持有；否则全部买入\n",
    "            if not flag:\n",
    "                # 买入\n",
    "                hold_equity = 1.0 * capital / buy_price[idx]\n",
    "                flag = True\n",
    "                capital = 0.0\n",
    "        else:\n",
    "            # 当需要进行卖出操作的时候，两种情况：如果之前就是卖出, 那么继续不买入；否则卖出\n",
    "            if flag:\n",
    "                # 卖出\n",
    "                flag = False\n",
    "                capital = hold_equity * buy_price[idx]\n",
    "                hold_equity = 0.0\n",
    "\n",
    "    # 计算最终的金额以及收益率\n",
    "    total_capital = capital + hold_equity * buy_price[-1]\n",
    "    return total_capital, (total_capital - initial_capital) / initial_capital\n"
   ]
  },
  {
   "cell_type": "code",
   "execution_count": 25,
   "metadata": {
    "collapsed": false
   },
   "outputs": [
    {
     "name": "stdout",
     "output_type": "stream",
     "text": [
      "所有数据上\n",
      "原始随机情况下:\n",
      "(124615.43419521823, 0.2461543419521823)\n",
      "模型预测情况下:\n",
      "(155984.8406132475, 0.5598484061324751)\n"
     ]
    }
   ],
   "source": [
    "print(\"所有数据上\")\n",
    "print(\"原始随机情况下:\")\n",
    "buy_infos = np.ones_like(buy_price, dtype=np.bool)\n",
    "buy_infos[::5] = False\n",
    "print(calc_rate_of_return_by_state(buy_price, buy_infos))\n",
    "print(\"模型预测情况下:\")\n",
    "buy_infos = y_pred_all.astype(np.bool)\n",
    "print(calc_rate_of_return_by_state(buy_price, buy_infos))"
   ]
  },
  {
   "cell_type": "code",
   "execution_count": 26,
   "metadata": {
    "collapsed": false
   },
   "outputs": [
    {
     "name": "stdout",
     "output_type": "stream",
     "text": [
      "训练数据上\n",
      "原始随机情况下:\n",
      "(97989.39091047984, -0.02010609089520163)\n",
      "模型预测情况下:\n",
      "(155984.8406132475, 0.5598484061324751)\n"
     ]
    }
   ],
   "source": [
    "print(\"训练数据上\")\n",
    "print(\"原始随机情况下:\")\n",
    "buy_infos = np.ones_like(train_data_buy_price, dtype=np.bool)\n",
    "buy_infos[::5] = False\n",
    "print(calc_rate_of_return_by_state(train_data_buy_price, buy_infos))\n",
    "print(\"模型预测情况下:\")\n",
    "buy_infos = y_pred_train.astype(np.bool)\n",
    "print(calc_rate_of_return_by_state(train_data_buy_price, buy_infos))"
   ]
  },
  {
   "cell_type": "code",
   "execution_count": 27,
   "metadata": {
    "collapsed": false
   },
   "outputs": [
    {
     "name": "stdout",
     "output_type": "stream",
     "text": [
      "测试数据上\n",
      "原始随机情况下:\n",
      "(127315.7470851489, 0.27315747085148906)\n",
      "模型预测情况下:\n",
      "(100000.0, 0.0)\n"
     ]
    }
   ],
   "source": [
    "print(\"测试数据上\")\n",
    "print(\"原始随机情况下:\")\n",
    "buy_infos = np.ones_like(test_data_buy_price, dtype=np.bool)\n",
    "buy_infos[::5] = False\n",
    "print(calc_rate_of_return_by_state(test_data_buy_price, buy_infos))\n",
    "print(\"模型预测情况下:\")\n",
    "buy_infos = y_pred_test.astype(np.bool)\n",
    "print(calc_rate_of_return_by_state(test_data_buy_price, buy_infos))"
   ]
  }
 ],
 "metadata": {
  "kernelspec": {
   "display_name": "Python 3",
   "language": "python",
   "name": "python3"
  },
  "language_info": {
   "codemirror_mode": {
    "name": "ipython",
    "version": 3
   },
   "file_extension": ".py",
   "mimetype": "text/x-python",
   "name": "python",
   "nbconvert_exporter": "python",
   "pygments_lexer": "ipython3",
   "version": "3.6.6"
  }
 },
 "nbformat": 4,
 "nbformat_minor": 2
}
