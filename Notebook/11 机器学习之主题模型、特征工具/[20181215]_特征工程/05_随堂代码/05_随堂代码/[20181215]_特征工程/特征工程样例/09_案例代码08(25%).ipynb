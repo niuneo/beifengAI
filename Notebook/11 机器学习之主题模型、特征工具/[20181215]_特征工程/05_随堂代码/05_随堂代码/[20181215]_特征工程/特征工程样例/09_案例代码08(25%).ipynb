{
 "cells": [
  {
   "cell_type": "markdown",
   "metadata": {},
   "source": [
    "## 实现方式\n",
    "- 不做模型预测，直接做数据分析\n",
    "- 基于原始特征属性产生隐特征来进行分析"
   ]
  },
  {
   "cell_type": "code",
   "execution_count": 1,
   "metadata": {
    "collapsed": false
   },
   "outputs": [],
   "source": [
    "import os\n",
    "import warnings\n",
    "import numpy as np\n",
    "import pandas as pd\n",
    "import matplotlib.pylab as plt\n",
    "from sklearn import svm\n",
    "from sklearn import tree\n",
    "from sklearn import metrics\n",
    "from sklearn import preprocessing\n",
    "import talib as ta\n",
    "from hmmlearn import hmm"
   ]
  },
  {
   "cell_type": "code",
   "execution_count": 2,
   "metadata": {
    "collapsed": true
   },
   "outputs": [],
   "source": [
    "np.random.seed(28)"
   ]
  },
  {
   "cell_type": "code",
   "execution_count": 3,
   "metadata": {
    "collapsed": false
   },
   "outputs": [],
   "source": [
    "warnings.filterwarnings('ignore')"
   ]
  },
  {
   "cell_type": "code",
   "execution_count": 4,
   "metadata": {
    "collapsed": true
   },
   "outputs": [],
   "source": [
    "%matplotlib inline"
   ]
  },
  {
   "cell_type": "code",
   "execution_count": 5,
   "metadata": {
    "collapsed": true
   },
   "outputs": [],
   "source": [
    "plt.rcParams['font.sans-serif'] = 'SimHei'\n",
    "plt.rcParams['axes.unicode_minus'] = False"
   ]
  },
  {
   "cell_type": "code",
   "execution_count": 6,
   "metadata": {
    "collapsed": true
   },
   "outputs": [],
   "source": [
    "stockcode = '000001.SZ'\n",
    "stockname = '平安银行'\n",
    "file_path = './data/000001.SZ_day_qfq.csv'\n",
    "stockfile = pd.read_csv(file_path, index_col='trade_date', parse_dates=True)"
   ]
  },
  {
   "cell_type": "markdown",
   "metadata": {},
   "source": [
    "#### 加入隐特征"
   ]
  },
  {
   "cell_type": "markdown",
   "metadata": {},
   "source": [
    "- 构建涨跌幅"
   ]
  },
  {
   "cell_type": "code",
   "execution_count": 7,
   "metadata": {
    "collapsed": false
   },
   "outputs": [
    {
     "name": "stdout",
     "output_type": "stream",
     "text": [
      "样本数目:2551, 每个样本的特征数目:7\n"
     ]
    }
   ],
   "source": [
    "stock_data = stockfile.drop(['pre_close', 'change', 'pct_change'], axis=1)\n",
    "stock_data['amplitude_price'] = stockfile['high'] - stockfile['low']\n",
    "print(\"样本数目:%d, 每个样本的特征数目:%d\" % stock_data.shape)"
   ]
  },
  {
   "cell_type": "code",
   "execution_count": 8,
   "metadata": {
    "collapsed": false
   },
   "outputs": [
    {
     "name": "stdout",
     "output_type": "stream",
     "text": [
      "<class 'pandas.core.frame.DataFrame'>\n",
      "DatetimeIndex: 2551 entries, 2008-01-02 to 2018-10-31\n",
      "Data columns (total 7 columns):\n",
      "open               2551 non-null float64\n",
      "high               2551 non-null float64\n",
      "low                2551 non-null float64\n",
      "close              2551 non-null float64\n",
      "vol                2551 non-null float64\n",
      "amount             2551 non-null float64\n",
      "amplitude_price    2551 non-null float64\n",
      "dtypes: float64(7)\n",
      "memory usage: 159.4 KB\n"
     ]
    }
   ],
   "source": [
    "stock_data.info()"
   ]
  },
  {
   "cell_type": "code",
   "execution_count": 9,
   "metadata": {
    "collapsed": true
   },
   "outputs": [],
   "source": [
    "# 对于空值做一个均值填充\n",
    "imputer = preprocessing.Imputer()\n",
    "stock_data = imputer.fit_transform(stock_data)"
   ]
  },
  {
   "cell_type": "code",
   "execution_count": 10,
   "metadata": {
    "collapsed": false
   },
   "outputs": [
    {
     "name": "stdout",
     "output_type": "stream",
     "text": [
      "训练数据格式:(2040, 7), 测试数据格式:(511, 7)\n"
     ]
    }
   ],
   "source": [
    "split_idx = int(4.0 * stock_data.shape[0] / 5)\n",
    "stock_train_data, stock_test_data = stock_data[:split_idx,:], stock_data[split_idx:, :]\n",
    "print(\"训练数据格式:{}, 测试数据格式:{}\".format(stock_train_data.shape, stock_test_data.shape))\n",
    "\n",
    "# 获取收盘价\n",
    "buy_price = stockfile['close']\n",
    "train_data_buy_price = buy_price[:split_idx]\n",
    "test_data_buy_price = buy_price[split_idx:]"
   ]
  },
  {
   "cell_type": "code",
   "execution_count": 11,
   "metadata": {
    "collapsed": false
   },
   "outputs": [
    {
     "data": {
      "text/plain": [
       "GaussianHMM(algorithm='viterbi', covariance_type='diag', covars_prior=0.01,\n",
       "      covars_weight=1, init_params='stmc', means_prior=0, means_weight=0,\n",
       "      min_covar=0.001, n_components=30, n_iter=10, params='stmc',\n",
       "      random_state=28, startprob_prior=1.0, tol=0.01, transmat_prior=1.0,\n",
       "      verbose=False)"
      ]
     },
     "execution_count": 11,
     "metadata": {},
     "output_type": "execute_result"
    }
   ],
   "source": [
    "# 模型构建\n",
    "## 给定隐特征的数目\n",
    "n = 30\n",
    "model = hmm.GaussianHMM(n_components=n, random_state=28)\n",
    "model.fit(stock_train_data)"
   ]
  },
  {
   "cell_type": "code",
   "execution_count": 12,
   "metadata": {
    "collapsed": true
   },
   "outputs": [],
   "source": [
    "all_states = model.predict(stock_data)\n",
    "train_states = model.predict(stock_train_data)\n",
    "test_states = model.predict(stock_test_data)"
   ]
  },
  {
   "cell_type": "code",
   "execution_count": 13,
   "metadata": {
    "collapsed": true
   },
   "outputs": [],
   "source": [
    "def calc_rate_of_return_by_state(buy_price, buy_infos, initial_capital=100000.0):\n",
    "    \"\"\"\n",
    "    buy_infos: 购买信息，True表示购买，False表示卖出\n",
    "    :param buy_price: 价格信息\n",
    "    :param buy_infos:\n",
    "    :param initial_capital: 初始资本\n",
    "    :return:\n",
    "    \"\"\"\n",
    "    # 资本\n",
    "    capital = initial_capital\n",
    "    # 持有的股本\n",
    "    hold_equity = 0.0\n",
    "\n",
    "    flag = False\n",
    "    for idx, buy_flag in enumerate(buy_infos):\n",
    "        if buy_flag:\n",
    "            # 当需要进行购买操作的时候，两种情况：如果之前就是购买，那就继续持有；否则全部买入\n",
    "            if not flag:\n",
    "                # 买入\n",
    "                hold_equity = 1.0 * capital / buy_price[idx]\n",
    "                flag = True\n",
    "                capital = 0.0\n",
    "        else:\n",
    "            # 当需要进行卖出操作的时候，两种情况：如果之前就是卖出, 那么继续不买入；否则卖出\n",
    "            if flag:\n",
    "                # 卖出\n",
    "                flag = False\n",
    "                capital = hold_equity * buy_price[idx]\n",
    "                hold_equity = 0.0\n",
    "\n",
    "    # 计算最终的金额以及收益率\n",
    "    total_capital = capital + hold_equity * buy_price[-1]\n",
    "    return total_capital, (total_capital - initial_capital) / initial_capital\n"
   ]
  },
  {
   "cell_type": "code",
   "execution_count": 14,
   "metadata": {
    "collapsed": false
   },
   "outputs": [
    {
     "name": "stdout",
     "output_type": "stream",
     "text": [
      "总的状态类别:[ 0  1  2  3  4  5  6  7  8  9 10 11 12 13 14 15 16 17 18 19 20 21 22 23\n",
      " 24 25 26 27 28 29]\n",
      "状态0--最终本金+收益:131808.68995541465, 收益率:0.3180868995541465\n",
      "状态1--最终本金+收益:107652.54683524289, 收益率:0.07652546835242888\n",
      "状态2--最终本金+收益:106167.81032404304, 收益率:0.061678103240430354\n",
      "状态3--最终本金+收益:106375.01112657557, 收益率:0.0637501112657557\n",
      "状态4--最终本金+收益:77756.91543864389, 收益率:-0.2224308456135611\n",
      "状态5--最终本金+收益:101344.96961857956, 收益率:0.013449696185795619\n",
      "状态6--最终本金+收益:86623.89213871295, 收益率:-0.13376107861287048\n",
      "状态7--最终本金+收益:109841.63249915195, 收益率:0.0984163249915195\n",
      "状态8--最终本金+收益:96472.46071053168, 收益率:-0.03527539289468317\n",
      "状态9--最终本金+收益:87914.28878678873, 收益率:-0.12085711213211267\n",
      "状态10--最终本金+收益:64687.98280503746, 收益率:-0.35312017194962536\n",
      "状态11--最终本金+收益:100590.47075035502, 收益率:0.005904707503550162\n",
      "状态12--最终本金+收益:133624.17186551238, 收益率:0.33624171865512387\n",
      "状态13--最终本金+收益:110191.30483197159, 收益率:0.10191304831971588\n",
      "状态14--最终本金+收益:98542.02401372213, 收益率:-0.014579759862778737\n",
      "状态15--最终本金+收益:94394.11257524384, 收益率:-0.05605887424756162\n",
      "状态16--最终本金+收益:89014.2109959188, 收益率:-0.10985789004081205\n",
      "状态17--最终本金+收益:112669.31401027125, 收益率:0.1266931401027125\n",
      "状态18--最终本金+收益:120627.69441181493, 收益率:0.20627694411814926\n",
      "状态19--最终本金+收益:66554.82736454454, 收益率:-0.33445172635455456\n",
      "状态20--最终本金+收益:127329.00542291114, 收益率:0.2732900542291114\n",
      "状态21--最终本金+收益:112516.54526517945, 收益率:0.12516545265179446\n",
      "状态22--最终本金+收益:109526.20416390718, 收益率:0.09526204163907183\n",
      "状态23--最终本金+收益:85170.92644896988, 收益率:-0.14829073551030117\n",
      "状态24--最终本金+收益:87447.15708043995, 收益率:-0.12552842919560048\n",
      "状态25--最终本金+收益:91137.37819119015, 收益率:-0.08862621808809854\n",
      "状态26--最终本金+收益:106888.98534226275, 收益率:0.06888985342262749\n",
      "状态27--最终本金+收益:81905.16773915257, 收益率:-0.18094832260847427\n",
      "状态28--最终本金+收益:139973.63085179398, 收益率:0.3997363085179398\n",
      "状态29--最终本金+收益:118081.8684136394, 收益率:0.18081868413639401\n",
      "推荐购买信息为：[0, 1, 2, 3, 5, 7, 11, 12, 13, 17, 18, 20, 21, 22, 26, 28, 29]\n",
      "推荐卖出信息为：[4, 6, 8, 9, 10, 14, 15, 16, 19, 23, 24, 25, 27]\n",
      "推荐波动持有信号为：[]\n"
     ]
    }
   ],
   "source": [
    "# 2. 对所有隐状态进行分析（计算各个状态的收益以及收益率）\n",
    "x = []\n",
    "y = []\n",
    "# 分别存储购买状态、卖出状态、持有状态\n",
    "buy_states = set()\n",
    "sell_states = set()\n",
    "hold_states = set()\n",
    "\n",
    "unique_states = np.unique(all_states)\n",
    "print(\"总的状态类别:{}\".format(unique_states))\n",
    "for state in unique_states:\n",
    "    total_capital, rate_of_return = calc_rate_of_return_by_state(buy_price, all_states == state)\n",
    "    print(\"状态{}--最终本金+收益:{}, 收益率:{}\".format(state, total_capital, rate_of_return))\n",
    "    x.append(state)\n",
    "    y.append(rate_of_return)\n",
    "    if rate_of_return > 0:\n",
    "        buy_states.add(state)\n",
    "    elif rate_of_return < 0:\n",
    "        sell_states.add(state)\n",
    "    else:\n",
    "        hold_states.add(state)\n",
    "\n",
    "buy_states = list(buy_states)\n",
    "sell_states = list(sell_states)\n",
    "hold_states = list(hold_states)\n",
    "print(\"推荐购买信息为：{}\".format(buy_states))\n",
    "print(\"推荐卖出信息为：{}\".format(sell_states))\n",
    "print(\"推荐波动持有信号为：{}\".format(hold_states))"
   ]
  },
  {
   "cell_type": "code",
   "execution_count": 15,
   "metadata": {
    "collapsed": false
   },
   "outputs": [],
   "source": [
    "# 计算最终收益率\n",
    "def calc_rate_of_return_by_state3(buy_price, states, buy_states, sell_states, initial_capital=100000.0):\n",
    "    # 资本\n",
    "    capital = initial_capital\n",
    "    # 持有的股本\n",
    "    hold_equity = 0.0\n",
    "\n",
    "    # flag为True表示持有股票，False表示未持有股票\n",
    "    flag = False\n",
    "    for idx, state in enumerate(states):\n",
    "        if state in buy_states:\n",
    "            # 当需要进行购买操作的时候，两种情况：如果之前就是购买，那就继续持有；否则全部买入\n",
    "            if not flag:\n",
    "                # 买入\n",
    "                hold_equity = 1.0 * capital / buy_price[idx]\n",
    "                flag = True\n",
    "                capital = 0.0\n",
    "        elif state in sell_states:\n",
    "            # 当需要进行卖出操作的时候，两种情况：如果之前就是卖出, 那么继续不买入；否则卖出\n",
    "            if flag:\n",
    "                # 卖出\n",
    "                flag = False\n",
    "                capital = hold_equity * buy_price[idx]\n",
    "                hold_equity = 0.0\n",
    "\n",
    "    # 计算最终的金额以及收益率\n",
    "    total_capital = capital + hold_equity * buy_price[-1]\n",
    "    return total_capital, (total_capital - initial_capital) / initial_capital"
   ]
  },
  {
   "cell_type": "code",
   "execution_count": 16,
   "metadata": {
    "collapsed": false
   },
   "outputs": [
    {
     "name": "stdout",
     "output_type": "stream",
     "text": [
      "所有数据上\n",
      "时间长度:(2551,)\n",
      "最终收益:995488.0445697262-8.954880445697261\n"
     ]
    }
   ],
   "source": [
    "print(\"所有数据上\")\n",
    "print(\"时间长度:{}\".format(buy_price.shape))\n",
    "print(\"最终收益:{}-{}\".format(*calc_rate_of_return_by_state3(buy_price, all_states, buy_states, sell_states)))"
   ]
  },
  {
   "cell_type": "code",
   "execution_count": 17,
   "metadata": {
    "collapsed": false
   },
   "outputs": [
    {
     "name": "stdout",
     "output_type": "stream",
     "text": [
      "训练数据上\n",
      "时间长度:(2040,)\n",
      "最终收益:794554.5765293054-6.945545765293054\n"
     ]
    }
   ],
   "source": [
    "print(\"训练数据上\")\n",
    "print(\"时间长度:{}\".format(train_data_buy_price.shape))\n",
    "print(\"最终收益:{}-{}\".format(*calc_rate_of_return_by_state3(train_data_buy_price, train_states, buy_states, sell_states)))"
   ]
  },
  {
   "cell_type": "code",
   "execution_count": 18,
   "metadata": {
    "collapsed": false
   },
   "outputs": [
    {
     "name": "stdout",
     "output_type": "stream",
     "text": [
      "测试数据上\n",
      "时间长度:(511,)\n",
      "最终收益:125288.8189151359-0.25288818915135897\n"
     ]
    }
   ],
   "source": [
    "print(\"测试数据上\")\n",
    "print(\"时间长度:{}\".format(test_data_buy_price.shape))\n",
    "print(\"最终收益:{}-{}\".format(*calc_rate_of_return_by_state3(test_data_buy_price, test_states, buy_states, sell_states)))"
   ]
  },
  {
   "cell_type": "code",
   "execution_count": null,
   "metadata": {
    "collapsed": true
   },
   "outputs": [],
   "source": []
  }
 ],
 "metadata": {
  "kernelspec": {
   "display_name": "Python 3",
   "language": "python",
   "name": "python3"
  },
  "language_info": {
   "codemirror_mode": {
    "name": "ipython",
    "version": 3
   },
   "file_extension": ".py",
   "mimetype": "text/x-python",
   "name": "python",
   "nbconvert_exporter": "python",
   "pygments_lexer": "ipython3",
   "version": "3.6.6"
  }
 },
 "nbformat": 4,
 "nbformat_minor": 2
}
